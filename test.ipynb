{
 "cells": [
  {
   "cell_type": "code",
   "execution_count": 1,
   "metadata": {},
   "outputs": [],
   "source": [
    "from utils.structure import *\n",
    "from utils.predicter import *\n",
    "from utils.solver import *"
   ]
  },
  {
   "cell_type": "code",
   "execution_count": 2,
   "metadata": {},
   "outputs": [],
   "source": [
    "class A():\n",
    "    def __init__(self):\n",
    "        self.a_1 = 1\n",
    "        self.a_2 = 2\n",
    "        self.methods = {'b':self.b, 'c':self.c}\n",
    "        self.b_1 = -1\n",
    "    \n",
    "    def b(self, b_1=3, c_1=4):\n",
    "        self.b_1 = b_1\n",
    "    \n",
    "    def c(self, b_1=3, c_1=4):\n",
    "        self.c_1 = c_1\n",
    "    \n",
    "    def s(self, method='b', b_1=5, c_1=6):\n",
    "        if method in self.methods:\n",
    "            self.methods[method](b_1=b_1, c_1=c_1)"
   ]
  },
  {
   "cell_type": "code",
   "execution_count": 3,
   "metadata": {},
   "outputs": [
    {
     "data": {
      "text/plain": [
       "5"
      ]
     },
     "execution_count": 3,
     "metadata": {},
     "output_type": "execute_result"
    }
   ],
   "source": [
    "a = A()\n",
    "a.s()\n",
    "a.b_1"
   ]
  },
  {
   "cell_type": "code",
   "execution_count": 4,
   "metadata": {},
   "outputs": [
    {
     "data": {
      "text/plain": [
       "False"
      ]
     },
     "execution_count": 4,
     "metadata": {},
     "output_type": "execute_result"
    }
   ],
   "source": [
    "'a' in {1:'a', 2:'b'}"
   ]
  },
  {
   "cell_type": "code",
   "execution_count": 5,
   "metadata": {},
   "outputs": [],
   "source": [
    "# build structure and display\n",
    "test_datas = open('./data/test_demo.txt', 'r')\n",
    "test_datas = test_datas.readlines()\n",
    "for test_data in test_datas:\n",
    "    s = Structure(test_data)\n",
    "#     print(s.data)\n",
    "#     print(s.display())"
   ]
  },
  {
   "cell_type": "code",
   "execution_count": 6,
   "metadata": {},
   "outputs": [
    {
     "name": "stdout",
     "output_type": "stream",
     "text": [
      "False\n",
      "False\n",
      "Found the group drop part is ({0, 1}, {0, 1})  rows.\n",
      "Found the group drop part is ({8, 5}, {8, 5})  cols.\n",
      "Found the group drop part is ({8, 2}, {8, 2})  cols.\n",
      "False\n"
     ]
    }
   ],
   "source": [
    "# scan all test\n",
    "s = Structure(test_datas[11])\n",
    "# print(s.display())\n",
    "\n",
    "solver = BasicSolver(s)\n",
    "# re_elements = {ele: False for ele in s.element_set}\n",
    "# for ele in s.element_set:\n",
    "#     re_elements[ele] = solver.methods['square'](ele)\n",
    "# print(solver.display(solver.tmp_scanned_data['8']))\n",
    "# for ele in s.element_set:\n",
    "#     re_elements[ele] = solver.methods['scanned'](ele)\n",
    "# print(re_elements)\n",
    "# print(solver.display(solver.tmp_scanned_data['8']))\n",
    "# for ele in s.element_set:\n",
    "#     re_elements[ele] = solver.methods['square'](ele)\n",
    "# print(solver.display(solver.tmp_scanned_data['8']))\n",
    "# print(re_elements)\n",
    "print(solver.scan_all(method='square'))\n",
    "print(solver.scan_all())\n",
    "print(solver.scan_all(method='square'))\n",
    "# print(solver.display(solver.tmp_scanned_data['8']))"
   ]
  },
  {
   "cell_type": "code",
   "execution_count": 7,
   "metadata": {},
   "outputs": [
    {
     "name": "stdout",
     "output_type": "stream",
     "text": [
      "False\n",
      "+-----+-----+-----+\n",
      "|    6|4 . 9|. . 5|\n",
      "|     |     |     |\n",
      "|1 8 4|2    |9 6 3|\n",
      "|     |     |     |\n",
      "|5    |3 6 .|4 . .|\n",
      "+-----+-----+-----+\n",
      "|    3|    4|. . 9|\n",
      "|     |     |     |\n",
      "|7   8|     |3 4 2|\n",
      "|     |     |     |\n",
      "|4    |8    |5    |\n",
      "+-----+-----+-----+\n",
      "|.    |9 4 6|. 5 1|\n",
      "|     |     |     |\n",
      "|9   5|  . 2|. 3 4|\n",
      "|     |     |     |\n",
      "|. 4  |5 . .|2 9 .|\n",
      "+-----+-----+-----+\n",
      "\n",
      "[]\n",
      "False\n",
      "+-----+-----+-----+\n",
      "|    6|4 . 9|. . 5|\n",
      "|     |     |     |\n",
      "|1 8 4|2    |9 6 3|\n",
      "|     |     |     |\n",
      "|5    |3 6 .|4 . .|\n",
      "+-----+-----+-----+\n",
      "|    3|    4|. . 9|\n",
      "|     |     |     |\n",
      "|7   8|     |3 4 2|\n",
      "|     |     |     |\n",
      "|4    |8    |5    |\n",
      "+-----+-----+-----+\n",
      "|.    |9 4 6|. 5 1|\n",
      "|     |     |     |\n",
      "|9   5|  . 2|. 3 4|\n",
      "|     |     |     |\n",
      "|. 4  |5 . .|2 9 .|\n",
      "+-----+-----+-----+\n",
      "\n",
      "[]\n",
      "Found the group drop part is ({8, 2}, {8, 2})  cols.\n",
      "True\n",
      "+-----+-----+-----+\n",
      "|    6|4 . 9|. . 5|\n",
      "|     |     |     |\n",
      "|1 8 4|2    |9 6 3|\n",
      "|     |     |     |\n",
      "|5    |3 6  |4    |\n",
      "+-----+-----+-----+\n",
      "|    3|    4|. . 9|\n",
      "|     |     |     |\n",
      "|7   8|     |3 4 2|\n",
      "|     |     |     |\n",
      "|4    |8    |5    |\n",
      "+-----+-----+-----+\n",
      "|.    |9 4 6|. 5 1|\n",
      "|     |     |     |\n",
      "|9   5|  . 2|. 3 4|\n",
      "|     |     |     |\n",
      "|  4  |5    |2 9  |\n",
      "+-----+-----+-----+\n",
      "\n",
      "[(4, '8'), (54, '8'), (67, '8')]\n",
      "[]\n"
     ]
    }
   ],
   "source": [
    "# Square test\n",
    "s = Structure(test_datas[11])\n",
    "# print(s.display())\n",
    "\n",
    "solver = BasicSolver(s)\n",
    "print(solver.check_square_drop('8'))\n",
    "print(solver.display(solver.tmp_scanned_data['8']))\n",
    "print(solver.ready)\n",
    "print(solver.check_scanned_drop('8'))\n",
    "print(solver.display(solver.tmp_scanned_data['8']))\n",
    "print(solver.ready)\n",
    "print(solver.check_square_drop('8'))\n",
    "print(solver.display(solver.tmp_scanned_data['8']))\n",
    "print(solver.ready)\n",
    "solver.update()\n",
    "print(solver.ready)\n",
    "# print(solver.display())"
   ]
  },
  {
   "cell_type": "code",
   "execution_count": 8,
   "metadata": {},
   "outputs": [
    {
     "data": {
      "text/plain": [
       "[(4, '8'), (54, '8'), (67, '8')]"
      ]
     },
     "execution_count": 8,
     "metadata": {},
     "output_type": "execute_result"
    }
   ],
   "source": [
    "solver.steps"
   ]
  },
  {
   "cell_type": "code",
   "execution_count": 9,
   "metadata": {},
   "outputs": [],
   "source": [
    "tmp = \"\t \t \t6\t4\t \t9\t \t \t5\\\n",
    "\t1\t8\t4\t2\t \t \t9\t6\t3\\\n",
    "\t5\t \t \t3\t6\t \t4\t \t \\\n",
    "\t \t \t3\t \t \t4\t \t \t9\\\n",
    "\t7\t \t8\t \t \t \t3\t4\t2\\\n",
    "\t4\t \t \t8\t \t \t5\t \t \\\n",
    "\t?\t×\t×\t9\t4\t6\t \t5\t1\\\n",
    "\t9\t×\t5\t \t \t2\t \t3\t4\\\n",
    "\t?\t4\t×\t5\t \t \t2\t9\t \""
   ]
  },
  {
   "cell_type": "code",
   "execution_count": 10,
   "metadata": {},
   "outputs": [
    {
     "name": "stdout",
     "output_type": "stream",
     "text": [
      "161\n"
     ]
    },
    {
     "data": {
      "text/plain": [
       "'.,.,6,4,.,9,.,.,5,1,8,4,2,.,.,9,6,3,5,.,.,3,6,.,4,.,.,.,.,3,.,.,4,.,.,9,7,.,8,.,.,.,3,4,2,4,.,.,8,.,.,5,.,.,.,.,.,9,4,6,.,5,1,9,.,5,.,.,2,.,3,4,.,4,.,5,.,.,2,9,.'"
      ]
     },
     "execution_count": 10,
     "metadata": {},
     "output_type": "execute_result"
    }
   ],
   "source": [
    "tmp = tmp.replace(' ', '.').replace('×', '.').replace('?','.').replace('\t', '')\n",
    "print(len(','.join(list(tmp))))\n",
    "','.join(list(tmp))"
   ]
  },
  {
   "cell_type": "code",
   "execution_count": null,
   "metadata": {},
   "outputs": [],
   "source": []
  }
 ],
 "metadata": {
  "kernelspec": {
   "display_name": "Python 3",
   "language": "python",
   "name": "python3"
  },
  "language_info": {
   "codemirror_mode": {
    "name": "ipython",
    "version": 3
   },
   "file_extension": ".py",
   "mimetype": "text/x-python",
   "name": "python",
   "nbconvert_exporter": "python",
   "pygments_lexer": "ipython3",
   "version": "3.8.2"
  }
 },
 "nbformat": 4,
 "nbformat_minor": 4
}
