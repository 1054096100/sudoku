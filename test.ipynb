{
 "cells": [
  {
   "cell_type": "code",
   "execution_count": 17,
   "metadata": {},
   "outputs": [],
   "source": [
    "from utils.structure import *\n",
    "from utils.predicter import *\n",
    "from utils.solver import *"
   ]
  },
  {
   "cell_type": "code",
   "execution_count": 18,
   "metadata": {},
   "outputs": [],
   "source": [
    "# build structure and display\n",
    "test_datas = open('./data/test_demo.txt', 'r')\n",
    "test_datas = test_datas.readlines()\n",
    "for test_data in test_datas:\n",
    "    s = Structure(test_data)\n",
    "#     print(s.data)\n",
    "#     print(s.display())"
   ]
  },
  {
   "cell_type": "code",
   "execution_count": 19,
   "metadata": {},
   "outputs": [
    {
     "name": "stdout",
     "output_type": "stream",
     "text": [
      "+-----+-----+-----+\n",
      "|6 . 7|5 . 2|9 . .|\n",
      "|     |     |     |\n",
      "|. . 2|9 . 4|6 . 7|\n",
      "|     |     |     |\n",
      "|1 . 9|7 6 8|3 2 .|\n",
      "+-----+-----+-----+\n",
      "|. 9 .|1 . .|. 6 .|\n",
      "|     |     |     |\n",
      "|. . .|6 9 5|. 7 1|\n",
      "|     |     |     |\n",
      "|. 1 6|2 . .|. 9 .|\n",
      "+-----+-----+-----+\n",
      "|9 6 5|4 7 1|8 3 2|\n",
      "|     |     |     |\n",
      "|8 . 1|3 . 9|7 . 6|\n",
      "|     |     |     |\n",
      "|. 7 .|8 . 6|1 . 9|\n",
      "+-----+-----+-----+\n",
      "\n"
     ]
    }
   ],
   "source": [
    "s = Structure(test_datas[6])\n",
    "print(s.display())\n",
    "\n",
    "solver = BasicSolver(s)\n",
    "# solver.idxes_need_to_solve"
   ]
  },
  {
   "cell_type": "code",
   "execution_count": 20,
   "metadata": {},
   "outputs": [
    {
     "name": "stdout",
     "output_type": "stream",
     "text": [
      "+-----+-----+-----+\n",
      "|6   7|5   2|9    |\n",
      "|     |     |     |\n",
      "|. . 2|9   4|6 . 7|\n",
      "|     |     |     |\n",
      "|1 . 9|7 6 8|3 2 .|\n",
      "+-----+-----+-----+\n",
      "|. 9  |1    |. 6 .|\n",
      "|     |     |     |\n",
      "|     |6 9 5|  7 1|\n",
      "|     |     |     |\n",
      "|. 1 6|2    |. 9 .|\n",
      "+-----+-----+-----+\n",
      "|9 6 5|4 7 1|8 3 2|\n",
      "|     |     |     |\n",
      "|8   1|3 . 9|7 . 6|\n",
      "|     |     |     |\n",
      "|  7  |8 . 6|1 . 9|\n",
      "+-----+-----+-----+\n",
      "\n",
      "False\n",
      "+-----+-----+-----+\n",
      "|6   7|5   2|9    |\n",
      "|     |     |     |\n",
      "|  . 2|9   4|6   7|\n",
      "|     |     |     |\n",
      "|1 . 9|7 6 8|3 2 .|\n",
      "+-----+-----+-----+\n",
      "|  9  |1    |. 6 .|\n",
      "|     |     |     |\n",
      "|     |6 9 5|  7 1|\n",
      "|     |     |     |\n",
      "|  1 6|2    |. 9 .|\n",
      "+-----+-----+-----+\n",
      "|9 6 5|4 7 1|8 3 2|\n",
      "|     |     |     |\n",
      "|8   1|3   9|7   6|\n",
      "|     |     |     |\n",
      "|  7  |8   6|1   9|\n",
      "+-----+-----+-----+\n",
      "\n",
      "True\n"
     ]
    },
    {
     "data": {
      "text/plain": [
       "[(10, '5'), (26, '5')]"
      ]
     },
     "execution_count": 20,
     "metadata": {},
     "output_type": "execute_result"
    }
   ],
   "source": [
    "# solver.check_idx_only(62)\n",
    "# print(solver.ready)\n",
    "# solver.check_idx_last_left(62)\n",
    "# print(solver.ready)\n",
    "print(solver.check_scanned_drop('5'))\n",
    "print(solver.check_area_drop('5'))\n",
    "solver.ready"
   ]
  },
  {
   "cell_type": "code",
   "execution_count": 15,
   "metadata": {},
   "outputs": [],
   "source": [
    "tmp = \"\t6\t \t7\t5\t \t2\t9\t \t \\\n",
    "\t \t \t2\t9\t \t4\t6\t \t7\\\n",
    "\t1\t \t9\t7\t6\t8\t3\t2\t \\\n",
    "\t \t9\t \t1\t \t \t \t6\t \\\n",
    "\t \t \t \t6\t9\t5\t \t7\t1\\\n",
    "\t \t1\t6\t2\t \t \t \t9\t \\\n",
    "\t9\t6\t5\t4\t7\t1\t8\t3\t2\\\n",
    "\t8\t \t1\t3\t \t9\t7\t \t6\\\n",
    "\t \t7\t \t8\t \t6\t1\t \t9\""
   ]
  },
  {
   "cell_type": "code",
   "execution_count": 16,
   "metadata": {},
   "outputs": [
    {
     "name": "stdout",
     "output_type": "stream",
     "text": [
      "161\n"
     ]
    },
    {
     "data": {
      "text/plain": [
       "'6,.,7,5,.,2,9,.,.,.,.,2,9,.,4,6,.,7,1,.,9,7,6,8,3,2,.,.,9,.,1,.,.,.,6,.,.,.,.,6,9,5,.,7,1,.,1,6,2,.,.,.,9,.,9,6,5,4,7,1,8,3,2,8,.,1,3,.,9,7,.,6,.,7,.,8,.,6,1,.,9'"
      ]
     },
     "execution_count": 16,
     "metadata": {},
     "output_type": "execute_result"
    }
   ],
   "source": [
    "tmp = tmp.replace(' ', '.').replace('×', '.').replace('\t', '')\n",
    "print(len(','.join(list(tmp))))\n",
    "','.join(list(tmp))"
   ]
  },
  {
   "cell_type": "code",
   "execution_count": null,
   "metadata": {},
   "outputs": [],
   "source": []
  }
 ],
 "metadata": {
  "kernelspec": {
   "display_name": "Python 3",
   "language": "python",
   "name": "python3"
  },
  "language_info": {
   "codemirror_mode": {
    "name": "ipython",
    "version": 3
   },
   "file_extension": ".py",
   "mimetype": "text/x-python",
   "name": "python",
   "nbconvert_exporter": "python",
   "pygments_lexer": "ipython3",
   "version": "3.8.2"
  }
 },
 "nbformat": 4,
 "nbformat_minor": 4
}
