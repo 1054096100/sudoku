{
 "cells": [
  {
   "cell_type": "code",
   "execution_count": 1,
   "metadata": {},
   "outputs": [],
   "source": [
    "from utils.structure import *\n",
    "from utils.predicter import *\n",
    "from utils.solver import *"
   ]
  },
  {
   "cell_type": "code",
   "execution_count": 2,
   "metadata": {},
   "outputs": [],
   "source": [
    "# build structure and display\n",
    "test_datas = open('./data/test_demo.txt', 'r')\n",
    "test_datas = test_datas.readlines()"
   ]
  },
  {
   "cell_type": "code",
   "execution_count": 3,
   "metadata": {},
   "outputs": [
    {
     "name": "stdout",
     "output_type": "stream",
     "text": [
      "+-----+-----+-----+\n",
      "|. . .|. . .|. . .|\n",
      "|     |     |     |\n",
      "|. . 6|. 9 3|. . .|\n",
      "|     |     |     |\n",
      "|9 . .|7 6 .|. . 4|\n",
      "+-----+-----+-----+\n",
      "|4 . .|. . 6|. 3 .|\n",
      "|     |     |     |\n",
      "|. . .|8 . .|. . 2|\n",
      "|     |     |     |\n",
      "|. 1 .|. . .|8 5 .|\n",
      "+-----+-----+-----+\n",
      "|7 . .|6 5 .|. 4 .|\n",
      "|     |     |     |\n",
      "|. 8 4|. . .|9 . .|\n",
      "|     |     |     |\n",
      "|. . 3|2 . .|. . .|\n",
      "+-----+-----+-----+\n",
      "\n",
      "re step :  {'scanned': True, 'area': True, 'group': False, 'square': False}\n",
      "Before - ready:  {'D3': '8', 'E7': '4', 'B4': '4', 'E8': '9', 'I2': '9', 'F4': '3'}\n",
      "After - ready:  []\n",
      "+-----+-----+-----+\n",
      "|. . .|. . .|. . .|\n",
      "|     |     |     |\n",
      "|. . 6|4 9 3|. . .|\n",
      "|     |     |     |\n",
      "|9 . .|7 6 .|. . 4|\n",
      "+-----+-----+-----+\n",
      "|4 . 8|. . 6|. 3 .|\n",
      "|     |     |     |\n",
      "|. . .|8 . .|4 9 2|\n",
      "|     |     |     |\n",
      "|. 1 .|3 . .|8 5 .|\n",
      "+-----+-----+-----+\n",
      "|7 . .|6 5 .|. 4 .|\n",
      "|     |     |     |\n",
      "|. 8 4|. . .|9 . .|\n",
      "|     |     |     |\n",
      "|. 9 3|2 . .|. . .|\n",
      "+-----+-----+-----+\n",
      "\n",
      "re step :  {'scanned': True, 'area': True, 'group': True, 'square': False}\n",
      "Before - ready:  {'A2': '4', 'A9': '9', 'D4': '9', 'F3': '9', 'G6': '9', 'H5': '3', 'E2': '6', 'F9': '6', 'H9': '5', 'A1': '3', 'H8': '6', 'I7': '6', 'A4': '1', 'D7': '7'}\n",
      "After - ready:  []\n",
      "+-----+-----+-----+\n",
      "|3 4 .|1 . .|. . 9|\n",
      "|     |     |     |\n",
      "|. . 6|4 9 3|. . .|\n",
      "|     |     |     |\n",
      "|9 . .|7 6 .|. . 4|\n",
      "+-----+-----+-----+\n",
      "|4 . 8|9 . 6|7 3 .|\n",
      "|     |     |     |\n",
      "|. 6 .|8 . .|4 9 2|\n",
      "|     |     |     |\n",
      "|. 1 9|3 . .|8 5 6|\n",
      "+-----+-----+-----+\n",
      "|7 . .|6 5 9|. 4 .|\n",
      "|     |     |     |\n",
      "|. 8 4|. 3 .|9 6 5|\n",
      "|     |     |     |\n",
      "|. 9 3|2 . .|6 . .|\n",
      "+-----+-----+-----+\n",
      "\n",
      "re step :  {'scanned': True, 'area': True, 'group': False, 'square': False}\n",
      "Before - ready:  {'B1': '8', 'G9': '8', 'D9': '1', 'D2': '5', 'E6': '5', 'I1': '5', 'B2': '7', 'E3': '7', 'H6': '7', 'C7': '3', 'G7': '2', 'H1': '2', 'A5': '8', 'A3': '5', 'A8': '7', 'B9': '7', 'F5': '7'}\n",
      "After - ready:  []\n",
      "+-----+-----+-----+\n",
      "|3 4 5|1 8 .|. 7 9|\n",
      "|     |     |     |\n",
      "|8 7 6|4 9 3|. . 7|\n",
      "|     |     |     |\n",
      "|9 . .|7 6 .|3 . 4|\n",
      "+-----+-----+-----+\n",
      "|4 5 8|9 . 6|7 3 1|\n",
      "|     |     |     |\n",
      "|. 6 7|8 . 5|4 9 2|\n",
      "|     |     |     |\n",
      "|. 1 9|3 7 .|8 5 6|\n",
      "+-----+-----+-----+\n",
      "|7 . .|6 5 9|2 4 8|\n",
      "|     |     |     |\n",
      "|2 8 4|. 3 7|9 6 5|\n",
      "|     |     |     |\n",
      "|5 9 3|2 . .|6 . .|\n",
      "+-----+-----+-----+\n",
      "\n",
      "re step :  {'scanned': True, 'area': False, 'group': False, 'square': False}\n",
      "Before - ready:  {'C8': '8', 'I6': '8', 'F6': '4', 'I5': '4', 'B7': '1', 'C3': '1', 'E5': '1', 'G3': '1', 'I8': '1', 'A6': '2', 'B8': '2', 'C2': '2', 'D5': '2'}\n",
      "After - ready:  []\n",
      "+-----+-----+-----+\n",
      "|3 4 5|1 8 2|. 7 9|\n",
      "|     |     |     |\n",
      "|8 7 6|4 9 3|1 2 7|\n",
      "|     |     |     |\n",
      "|9 2 1|7 6 .|3 8 4|\n",
      "+-----+-----+-----+\n",
      "|4 5 8|9 2 6|7 3 1|\n",
      "|     |     |     |\n",
      "|. 6 7|8 1 5|4 9 2|\n",
      "|     |     |     |\n",
      "|. 1 9|3 7 4|8 5 6|\n",
      "+-----+-----+-----+\n",
      "|7 . 1|6 5 9|2 4 8|\n",
      "|     |     |     |\n",
      "|2 8 4|. 3 7|9 6 5|\n",
      "|     |     |     |\n",
      "|5 9 3|2 4 8|6 1 .|\n",
      "+-----+-----+-----+\n",
      "\n",
      "re step :  {'scanned': False, 'area': False, 'group': False, 'square': False}\n",
      "Before - ready:  {}\n",
      "+-----+-----+-----+\n",
      "|3 4 5|1 8 2|. 7 9|\n",
      "|     |     |     |\n",
      "|8 7 6|4 9 3|1 2 7|\n",
      "|     |     |     |\n",
      "|9 2 1|7 6 .|3 8 4|\n",
      "+-----+-----+-----+\n",
      "|4 5 8|9 2 6|7 3 1|\n",
      "|     |     |     |\n",
      "|. 6 7|8 1 5|4 9 2|\n",
      "|     |     |     |\n",
      "|. 1 9|3 7 4|8 5 6|\n",
      "+-----+-----+-----+\n",
      "|7 . 1|6 5 9|2 4 8|\n",
      "|     |     |     |\n",
      "|2 8 4|. 3 7|9 6 5|\n",
      "|     |     |     |\n",
      "|5 9 3|2 4 8|6 1 .|\n",
      "+-----+-----+-----+\n",
      "\n",
      "solve :  False\n",
      "False\n"
     ]
    }
   ],
   "source": [
    "# solve test\n",
    "for test_data in test_datas[1:2]:\n",
    "    if test_data != '\\n':\n",
    "        s = Structure(test_data)\n",
    "        solver = BasicSolver(s)\n",
    "#         print(s.data)\n",
    "        print('solve : ', solver.solve())\n",
    "        print(solver.check(data=['3', '4', '5', '1', '8', '2', '.', '7', '9', '8', '7', '6', '4', '9', '3', '1', '2', '7', '9', '2', '1', '7', '6', '.', '3', '8', '4', '4', '5', '8', '9', '2', '6', '7', '3', '1', '.', '6', '7', '8', '1', '5', '4', '9', '2', '.', '1', '9', '3', '7', '4', '8', '5', '6', '7', '.', '1', '6', '5', '9', '2', '4', '3', '2', '8', '4', '.', '3', '7', '9', '6', '5', '5', '9', '3', '2', '4', '1', '6', '1', '8']))"
   ]
  },
  {
   "cell_type": "code",
   "execution_count": null,
   "metadata": {},
   "outputs": [],
   "source": []
  },
  {
   "cell_type": "code",
   "execution_count": null,
   "metadata": {},
   "outputs": [],
   "source": [
    "# input test\n",
    "for test_data in test_datas[:5]:\n",
    "    s = Structure(test_data)\n",
    "    print(s.data)\n",
    "    print(s.display())"
   ]
  },
  {
   "cell_type": "code",
   "execution_count": 8,
   "metadata": {
    "scrolled": false
   },
   "outputs": [
    {
     "name": "stdout",
     "output_type": "stream",
     "text": [
      "6 :\n",
      "- Before  False\n",
      "- Processing  False\n",
      "- After  True\n",
      "ready :  {'H6': '1', 'I5': '1', 'D7': '5', 'E8': '5', 'F7': '5', 'B1': '2'}\n",
      "7 :\n",
      "- Before  True\n",
      "- Processing  False\n",
      "- After  True\n",
      "ready :  {'A9': '8', 'B2': '8', 'F9': '8', 'H2': '4', 'C9': '5', 'A2': '3', 'I1': '2', 'D3': '8', 'E3': '8', 'D7': '5', 'F7': '5', 'F1': '3', 'D1': '2'}\n",
      "8 :\n",
      "- Before  True\n",
      "- Processing  False\n",
      "- After  True\n",
      "ready :  {'B7': '8', 'D9': '8', 'H3': '9', 'E7': '3', 'E8': '3', 'G2': '8', 'H1': '8', 'F8': '4', 'H5': '9', 'B5': '2', 'C5': '2', 'B6': '6', 'G5': '6', 'I4': '6'}\n",
      "9 :\n",
      "- Before  False\n",
      "- Processing  False\n",
      "- After  True\n",
      "ready :  {'G4': '1', 'I5': '1', 'B2': '7', 'B3': '7', 'D4': '7', 'D6': '7', 'I3': '2', 'H5': '6'}\n"
     ]
    }
   ],
   "source": [
    "# scan all area test\n",
    "for i in range(6, 10):\n",
    "    print(i, ':')\n",
    "    s = Structure(test_datas[i])\n",
    "    # print(s.display())\n",
    "    solver = BasicSolver(s)\n",
    "    print('- Before ', solver.scan_all(method='area', save_ready=True))\n",
    "    print('- Processing ', solver.scan_all())\n",
    "    print('- After ', solver.scan_all(method='area', save_ready=True))\n",
    "    print('ready : ', {chr(int(int(t[0])/(solver.meta_size**2)) + ord('A'))+ str(int(t[0])%(solver.meta_size**2) + 1) : t[1] for t in solver.ready})"
   ]
  },
  {
   "cell_type": "code",
   "execution_count": null,
   "metadata": {},
   "outputs": [],
   "source": [
    "# scan all group test\n",
    "for i in range(11, 16):\n",
    "    print(i, ':')\n",
    "    s = Structure(test_datas[i])\n",
    "    # print(s.display())\n",
    "    solver = BasicSolver(s)\n",
    "    print('- Before ', solver.scan_all(method='group', save_ready=True))\n",
    "    print('- Processing ', solver.scan_all())\n",
    "    print('- After ', solver.scan_all(method='group', save_ready=True))\n",
    "    print('ready : ', {chr(int(int(t[0])/(solver.meta_size**2)) + ord('A'))+ str(int(t[0])%(solver.meta_size**2) + 1) : t[1] for t in solver.ready})"
   ]
  },
  {
   "cell_type": "code",
   "execution_count": null,
   "metadata": {
    "scrolled": true
   },
   "outputs": [],
   "source": [
    "# scan all square test\n",
    "for i in range(17, 22):\n",
    "    print(i, ':')\n",
    "    s = Structure(test_datas[i])\n",
    "    # print(s.display())\n",
    "    solver = BasicSolver(s)\n",
    "    print('- Before ', solver.scan_all(method='square', save_ready=True))\n",
    "    print('- Processing ', solver.scan_all())\n",
    "    print('- After ', solver.scan_all(method='square', save_ready=True))\n",
    "    print('ready : ', {chr(int(int(t[0])/(solver.meta_size**2)) + ord('A'))+ str(int(t[0])%(solver.meta_size**2) + 1) : t[1] for t in solver.ready})"
   ]
  },
  {
   "cell_type": "code",
   "execution_count": null,
   "metadata": {
    "scrolled": true
   },
   "outputs": [],
   "source": [
    "# check and step test\n",
    "for test_data in test_datas:\n",
    "    if test_data != '\\n':\n",
    "        s = Structure(test_data)\n",
    "        solver = BasicSolver(s)\n",
    "#         print(s.data)\n",
    "        print('check : ', solver.check())\n",
    "        solver = BasicSolver(s)\n",
    "        print('step : ', solver.step())"
   ]
  },
  {
   "cell_type": "code",
   "execution_count": null,
   "metadata": {
    "scrolled": true
   },
   "outputs": [],
   "source": [
    "# solve test\n",
    "for test_data in test_datas:\n",
    "    if test_data != '\\n':\n",
    "        s = Structure(test_data)\n",
    "        solver = BasicSolver(s)\n",
    "#         print(s.data)\n",
    "        print('solve : ', solver.solve())"
   ]
  },
  {
   "cell_type": "code",
   "execution_count": null,
   "metadata": {},
   "outputs": [],
   "source": [
    "solver.steps"
   ]
  },
  {
   "cell_type": "code",
   "execution_count": null,
   "metadata": {},
   "outputs": [],
   "source": [
    "tmp = \"\t \t \t6\t \t \t4\t1\t7\t2\\\n",
    "\t \t \t \t2\t \t1\t5\t \t \\\n",
    "\t \t1\t \t \t3\t \t9\t \t \\\n",
    "\t \t2\t8\t \t \t \t3\t \t4\\\n",
    "\t1\t \t \t \t \t \t2\t \t7\\\n",
    "\t6\t \t \t \t \t \t8\t1\t \\\n",
    "\t \t \t3\t \t7\t \t4\t \t \\\n",
    "\t \t \t1\t3\t \t5\t7\t \t \\\n",
    "\t7\t9\t \t4\t \t \t6\t \t \""
   ]
  },
  {
   "cell_type": "code",
   "execution_count": null,
   "metadata": {},
   "outputs": [],
   "source": [
    "tmp = tmp.replace(' ', '.').replace('×', '.').replace('?','.').replace('\t', '')\n",
    "print(len(','.join(list(tmp))))\n",
    "','.join(list(tmp))"
   ]
  },
  {
   "cell_type": "code",
   "execution_count": null,
   "metadata": {},
   "outputs": [],
   "source": []
  }
 ],
 "metadata": {
  "kernelspec": {
   "display_name": "Python 3",
   "language": "python",
   "name": "python3"
  },
  "language_info": {
   "codemirror_mode": {
    "name": "ipython",
    "version": 3
   },
   "file_extension": ".py",
   "mimetype": "text/x-python",
   "name": "python",
   "nbconvert_exporter": "python",
   "pygments_lexer": "ipython3",
   "version": "3.8.2"
  }
 },
 "nbformat": 4,
 "nbformat_minor": 4
}
