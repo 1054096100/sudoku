{
 "cells": [
  {
   "cell_type": "code",
   "execution_count": 1,
   "metadata": {},
   "outputs": [],
   "source": [
    "from utils.structure import *\n",
    "from utils.predicter import *\n",
    "from utils.solver import *"
   ]
  },
  {
   "cell_type": "code",
   "execution_count": 2,
   "metadata": {},
   "outputs": [],
   "source": [
    "# build structure and display\n",
    "test_datas = open('./data/test_demo.txt', 'r')\n",
    "test_datas = test_datas.readlines()\n",
    "for test_data in test_datas:\n",
    "    s = Structure(test_data)\n",
    "#     print(s.data)\n",
    "#     print(s.display())"
   ]
  },
  {
   "cell_type": "code",
   "execution_count": 3,
   "metadata": {},
   "outputs": [
    {
     "name": "stdout",
     "output_type": "stream",
     "text": [
      "+-----+-----+-----+\n",
      "|. 5 2|. . 9|. . .|\n",
      "|     |     |     |\n",
      "|. . 3|. 5 .|. 1 6|\n",
      "|     |     |     |\n",
      "|. . 4|3 . .|9 . 5|\n",
      "+-----+-----+-----+\n",
      "|. 6 .|. . 3|8 . .|\n",
      "|     |     |     |\n",
      "|. 2 .|6 9 5|. 4 .|\n",
      "|     |     |     |\n",
      "|. . 1|2 . .|5 6 .|\n",
      "+-----+-----+-----+\n",
      "|. . 7|. . 6|3 . .|\n",
      "|     |     |     |\n",
      "|2 3 .|. 7 .|6 . .|\n",
      "|     |     |     |\n",
      "|. . .|4 3 .|. 5 .|\n",
      "+-----+-----+-----+\n",
      "\n"
     ]
    },
    {
     "data": {
      "text/plain": [
       "[0,\n",
       " 3,\n",
       " 4,\n",
       " 6,\n",
       " 7,\n",
       " 8,\n",
       " 9,\n",
       " 10,\n",
       " 12,\n",
       " 14,\n",
       " 15,\n",
       " 18,\n",
       " 19,\n",
       " 22,\n",
       " 23,\n",
       " 25,\n",
       " 27,\n",
       " 29,\n",
       " 30,\n",
       " 31,\n",
       " 34,\n",
       " 35,\n",
       " 36,\n",
       " 38,\n",
       " 42,\n",
       " 44,\n",
       " 45,\n",
       " 46,\n",
       " 49,\n",
       " 50,\n",
       " 53,\n",
       " 54,\n",
       " 55,\n",
       " 57,\n",
       " 58,\n",
       " 61,\n",
       " 62,\n",
       " 65,\n",
       " 66,\n",
       " 68,\n",
       " 70,\n",
       " 71,\n",
       " 72,\n",
       " 73,\n",
       " 74,\n",
       " 77,\n",
       " 78,\n",
       " 80]"
      ]
     },
     "execution_count": 3,
     "metadata": {},
     "output_type": "execute_result"
    }
   ],
   "source": [
    "s = Structure(test_datas[2])\n",
    "print(s.display())\n",
    "\n",
    "solver = Solver(s)\n",
    "solver.idxes_need_to_solve"
   ]
  },
  {
   "cell_type": "code",
   "execution_count": 4,
   "metadata": {},
   "outputs": [
    {
     "name": "stdout",
     "output_type": "stream",
     "text": [
      "+-----+-----+-----+\n",
      "|  5 2|  . 9|.   .|\n",
      "|     |     |     |\n",
      "|    3|  5 .|. 1 6|\n",
      "|     |     |     |\n",
      "|    4|3    |9   5|\n",
      "+-----+-----+-----+\n",
      "|. 6  |  . 3|8    |\n",
      "|     |     |     |\n",
      "|  2  |6 9 5|  4  |\n",
      "|     |     |     |\n",
      "|. . 1|2 . .|5 6  |\n",
      "+-----+-----+-----+\n",
      "|. . 7|    6|3   .|\n",
      "|     |     |     |\n",
      "|2 3  |  7  |6   .|\n",
      "|     |     |     |\n",
      "|     |4 3  |  5  |\n",
      "+-----+-----+-----+\n",
      "\n",
      "True\n"
     ]
    },
    {
     "data": {
      "text/plain": [
       "[(71, '4')]"
      ]
     },
     "execution_count": 4,
     "metadata": {},
     "output_type": "execute_result"
    }
   ],
   "source": [
    "solver.check_idx_only(7)\n",
    "print(solver.check_scanned_drop('4'))\n",
    "solver.ready"
   ]
  },
  {
   "cell_type": "code",
   "execution_count": null,
   "metadata": {},
   "outputs": [],
   "source": []
  }
 ],
 "metadata": {
  "kernelspec": {
   "display_name": "Python 3",
   "language": "python",
   "name": "python3"
  },
  "language_info": {
   "codemirror_mode": {
    "name": "ipython",
    "version": 3
   },
   "file_extension": ".py",
   "mimetype": "text/x-python",
   "name": "python",
   "nbconvert_exporter": "python",
   "pygments_lexer": "ipython3",
   "version": "3.8.2"
  }
 },
 "nbformat": 4,
 "nbformat_minor": 4
}
