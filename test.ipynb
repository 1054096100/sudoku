{
 "cells": [
  {
   "cell_type": "code",
   "execution_count": 1,
   "metadata": {},
   "outputs": [],
   "source": [
    "from utils.structure import *\n",
    "from utils.predicter import *\n",
    "from utils.solver import *"
   ]
  },
  {
   "cell_type": "code",
   "execution_count": 3,
   "metadata": {},
   "outputs": [],
   "source": [
    "# build structure and display\n",
    "test_datas = open('./data/test_demo.txt', 'r')\n",
    "test_datas = test_datas.readlines()\n",
    "for test_data in test_datas:\n",
    "    s = Structure(test_data)\n",
    "#     print(s.data)\n",
    "#     print(s.display())"
   ]
  },
  {
   "cell_type": "code",
   "execution_count": 15,
   "metadata": {
    "scrolled": true
   },
   "outputs": [
    {
     "name": "stdout",
     "output_type": "stream",
     "text": [
      "+-----+-----+-----+\n",
      "|. . 6|4 . 9|. . 5|\n",
      "|     |     |     |\n",
      "|1 8 4|2 . .|9 6 3|\n",
      "|     |     |     |\n",
      "|5 . .|3 6 .|4 . .|\n",
      "+-----+-----+-----+\n",
      "|. . 3|. . 4|. . 9|\n",
      "|     |     |     |\n",
      "|7 . 8|. . .|3 4 2|\n",
      "|     |     |     |\n",
      "|4 . .|8 . .|5 . .|\n",
      "+-----+-----+-----+\n",
      "|. . .|9 4 6|. 5 1|\n",
      "|     |     |     |\n",
      "|9 . 5|. . 2|. 3 4|\n",
      "|     |     |     |\n",
      "|. 4 .|5 . .|2 9 .|\n",
      "+-----+-----+-----+\n",
      "\n"
     ]
    }
   ],
   "source": [
    "s = Structure(test_datas[7])\n",
    "print(s.display())\n",
    "\n",
    "solver = BasicSolver(s)\n",
    "# solver.idxes_need_to_solve"
   ]
  },
  {
   "cell_type": "code",
   "execution_count": 16,
   "metadata": {
    "scrolled": false
   },
   "outputs": [
    {
     "name": "stdout",
     "output_type": "stream",
     "text": [
      "+-----+-----+-----+\n",
      "|    6|4   9|    5|\n",
      "|     |     |     |\n",
      "|1 8 4|2 . .|9 6 3|\n",
      "|     |     |     |\n",
      "|5    |3 6  |4    |\n",
      "+-----+-----+-----+\n",
      "|  . 3|  . 4|    9|\n",
      "|     |     |     |\n",
      "|7 . 8|  . .|3 4 2|\n",
      "|     |     |     |\n",
      "|4    |8    |5    |\n",
      "+-----+-----+-----+\n",
      "|     |9 4 6|  5 1|\n",
      "|     |     |     |\n",
      "|9   5|    2|  3 4|\n",
      "|     |     |     |\n",
      "|  4  |5    |2 9  |\n",
      "+-----+-----+-----+\n",
      "\n",
      "False\n",
      "+-----+-----+-----+\n",
      "|    6|4   9|    5|\n",
      "|     |     |     |\n",
      "|1 8 4|2    |9 6 3|\n",
      "|     |     |     |\n",
      "|5    |3 6  |4    |\n",
      "+-----+-----+-----+\n",
      "|    3|  . 4|    9|\n",
      "|     |     |     |\n",
      "|7   8|  . .|3 4 2|\n",
      "|     |     |     |\n",
      "|4    |8    |5    |\n",
      "+-----+-----+-----+\n",
      "|     |9 4 6|  5 1|\n",
      "|     |     |     |\n",
      "|9   5|    2|  3 4|\n",
      "|     |     |     |\n",
      "|  4  |5    |2 9  |\n",
      "+-----+-----+-----+\n",
      "\n",
      "True\n",
      "[(31, '5'), (41, '5')]\n",
      "[]\n"
     ]
    }
   ],
   "source": [
    "# solver.check_idx_only(62)\n",
    "# print(solver.ready)\n",
    "# solver.check_idx_last_left(62)\n",
    "# print(solver.ready)\n",
    "print(solver.check_scanned_drop('5'))\n",
    "print(solver.check_area_drop('5'))\n",
    "print(solver.ready)\n",
    "solver.update()\n",
    "print(solver.ready)"
   ]
  },
  {
   "cell_type": "code",
   "execution_count": 13,
   "metadata": {},
   "outputs": [
    {
     "name": "stdout",
     "output_type": "stream",
     "text": [
      "+-----+-----+-----+\n",
      "|. . 6|4 . 9|. . 5|\n",
      "|     |     |     |\n",
      "|1 8 4|2 . .|9 6 3|\n",
      "|     |     |     |\n",
      "|5 . .|3 6 .|4 . .|\n",
      "+-----+-----+-----+\n",
      "|. . 3|. 5 4|. . 9|\n",
      "|     |     |     |\n",
      "|7 . 8|. . 5|3 4 2|\n",
      "|     |     |     |\n",
      "|4 . .|8 . .|5 . .|\n",
      "+-----+-----+-----+\n",
      "|. . .|9 4 6|. 5 1|\n",
      "|     |     |     |\n",
      "|9 . 5|. . 2|. 3 4|\n",
      "|     |     |     |\n",
      "|. 4 .|5 . .|2 9 .|\n",
      "+-----+-----+-----+\n",
      "\n"
     ]
    }
   ],
   "source": [
    "print(solver.structure.display(solver.data))"
   ]
  },
  {
   "cell_type": "code",
   "execution_count": null,
   "metadata": {},
   "outputs": [],
   "source": [
    "if not len(solver.ready) > 0:\n",
    "    print('s')\n",
    "else:\n",
    "    print('t')"
   ]
  },
  {
   "cell_type": "code",
   "execution_count": null,
   "metadata": {},
   "outputs": [],
   "source": [
    "solver.steps.extend(solver.ready)"
   ]
  },
  {
   "cell_type": "code",
   "execution_count": null,
   "metadata": {},
   "outputs": [],
   "source": [
    "solver.steps"
   ]
  },
  {
   "cell_type": "code",
   "execution_count": null,
   "metadata": {},
   "outputs": [],
   "source": [
    "tmp = \" \t \t6\t4\t \t9\t \t \t5\\\n",
    "\t1\t8\t4\t2\t \t \t9\t6\t3\\\n",
    "\t5\t \t \t3\t6\t \t4\t \t \\\n",
    "\t \t \t3\t \t \t4\t \t \t9\\\n",
    "\t7\t \t8\t \t \t \t3\t4\t2\\\n",
    "\t4\t \t \t8\t \t \t5\t \t \\\n",
    "\t?\t×\t×\t9\t4\t6\t \t5\t1\\\n",
    "\t9\t×\t5\t \t \t2\t \t3\t4\\\n",
    "\t?\t4\t×\t5\t \t \t2\t9\t \""
   ]
  },
  {
   "cell_type": "code",
   "execution_count": 4,
   "metadata": {},
   "outputs": [
    {
     "ename": "NameError",
     "evalue": "name 'tmp' is not defined",
     "output_type": "error",
     "traceback": [
      "\u001b[0;31m---------------------------------------------------------------------------\u001b[0m",
      "\u001b[0;31mNameError\u001b[0m                                 Traceback (most recent call last)",
      "\u001b[0;32m<ipython-input-4-85cb526084a2>\u001b[0m in \u001b[0;36m<module>\u001b[0;34m\u001b[0m\n\u001b[0;32m----> 1\u001b[0;31m \u001b[0mtmp\u001b[0m \u001b[0;34m=\u001b[0m \u001b[0mtmp\u001b[0m\u001b[0;34m.\u001b[0m\u001b[0mreplace\u001b[0m\u001b[0;34m(\u001b[0m\u001b[0;34m' '\u001b[0m\u001b[0;34m,\u001b[0m \u001b[0;34m'.'\u001b[0m\u001b[0;34m)\u001b[0m\u001b[0;34m.\u001b[0m\u001b[0mreplace\u001b[0m\u001b[0;34m(\u001b[0m\u001b[0;34m'×'\u001b[0m\u001b[0;34m,\u001b[0m \u001b[0;34m'.'\u001b[0m\u001b[0;34m)\u001b[0m\u001b[0;34m.\u001b[0m\u001b[0mreplace\u001b[0m\u001b[0;34m(\u001b[0m\u001b[0;34m'?'\u001b[0m\u001b[0;34m,\u001b[0m\u001b[0;34m''\u001b[0m\u001b[0;34m)\u001b[0m\u001b[0;34m.\u001b[0m\u001b[0mreplace\u001b[0m\u001b[0;34m(\u001b[0m\u001b[0;34m' '\u001b[0m\u001b[0;34m,\u001b[0m \u001b[0;34m''\u001b[0m\u001b[0;34m)\u001b[0m\u001b[0;34m\u001b[0m\u001b[0;34m\u001b[0m\u001b[0m\n\u001b[0m\u001b[1;32m      2\u001b[0m \u001b[0mprint\u001b[0m\u001b[0;34m(\u001b[0m\u001b[0mlen\u001b[0m\u001b[0;34m(\u001b[0m\u001b[0;34m','\u001b[0m\u001b[0;34m.\u001b[0m\u001b[0mjoin\u001b[0m\u001b[0;34m(\u001b[0m\u001b[0mlist\u001b[0m\u001b[0;34m(\u001b[0m\u001b[0mtmp\u001b[0m\u001b[0;34m)\u001b[0m\u001b[0;34m)\u001b[0m\u001b[0;34m)\u001b[0m\u001b[0;34m)\u001b[0m\u001b[0;34m\u001b[0m\u001b[0;34m\u001b[0m\u001b[0m\n\u001b[1;32m      3\u001b[0m \u001b[0;34m','\u001b[0m\u001b[0;34m.\u001b[0m\u001b[0mjoin\u001b[0m\u001b[0;34m(\u001b[0m\u001b[0mlist\u001b[0m\u001b[0;34m(\u001b[0m\u001b[0mtmp\u001b[0m\u001b[0;34m)\u001b[0m\u001b[0;34m)\u001b[0m\u001b[0;34m\u001b[0m\u001b[0;34m\u001b[0m\u001b[0m\n",
      "\u001b[0;31mNameError\u001b[0m: name 'tmp' is not defined"
     ]
    }
   ],
   "source": [
    "tmp = tmp.replace(' ', '.').replace('×', '.').replace('?','').replace('\t', '')\n",
    "print(len(','.join(list(tmp))))\n",
    "','.join(list(tmp))"
   ]
  },
  {
   "cell_type": "code",
   "execution_count": null,
   "metadata": {},
   "outputs": [],
   "source": []
  }
 ],
 "metadata": {
  "kernelspec": {
   "display_name": "Python 3",
   "language": "python",
   "name": "python3"
  },
  "language_info": {
   "codemirror_mode": {
    "name": "ipython",
    "version": 3
   },
   "file_extension": ".py",
   "mimetype": "text/x-python",
   "name": "python",
   "nbconvert_exporter": "python",
   "pygments_lexer": "ipython3",
   "version": "3.8.2"
  }
 },
 "nbformat": 4,
 "nbformat_minor": 4
}
