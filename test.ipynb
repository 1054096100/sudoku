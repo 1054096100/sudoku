{
 "cells": [
  {
   "cell_type": "code",
   "execution_count": 1,
   "metadata": {},
   "outputs": [],
   "source": [
    "from utils.structure import *\n",
    "from utils.predicter import *\n",
    "# from utils.solver import *"
   ]
  },
  {
   "cell_type": "code",
   "execution_count": 103,
   "metadata": {},
   "outputs": [],
   "source": [
    "class Solver():\n",
    "    '''The solver for the sudoku puzzle.\n",
    "\n",
    "    Elements:\n",
    "\n",
    "    - structure: the structure inherited from the structure.add()\n",
    "    - data: the current puzzle data\n",
    "    - meta_size: the structure's meta_size inherited from the structure class in order to simplify the coding.\n",
    "    - idxes_need_to_solve: list of indexes where the blank not solved [idx, ...]\n",
    "    - steps: the step-by-step history of the solving process [(idx, update_num), ...]\n",
    "    - ready: the step-by-step solutions which is ready to update [(idx, update_num), ...]\n",
    "    - # TODO: predict part\n",
    "    '''\n",
    "    def __init__(self, problem_structure):\n",
    "        assert problem_structure.__class__ == Structure, 'Parameter error: The problem_structure\\'s class is not Structure.'\n",
    "        self.structure = problem_structure\n",
    "        self.data = problem_structure.data\n",
    "        self.data_origin = list(self.data)\n",
    "        self.meta_size = problem_structure.meta_size\n",
    "        self.idxes_need_to_solve = [idx for idx, i in enumerate(self.data_origin) if i == '.']\n",
    "        self.steps = []\n",
    "        self.ready = [] # the [{idx : update_num} ..] of what is ready to update\n",
    "    \n",
    "    def check_idx_only(self, idx, data=None):\n",
    "        '''Check if the item with the index idx is the only blank of its row / column / box.\n",
    "\n",
    "        Input:\n",
    "        - idx: the index where we check\n",
    "        - data: the external data we put in.\n",
    "\n",
    "        Ouput:\n",
    "        - flg_changed(Boolean): True if it is ready to update\n",
    "        \n",
    "        # TODO: element_set auto recognition\n",
    "        '''\n",
    "        data = data if data else self.data\n",
    "        # print(self.data[idx])\n",
    "\n",
    "        # Check if the index is in ready list\n",
    "        if idx in [i[0] for i in self.ready]: return False\n",
    "\n",
    "        def check_idx_only_in_line(line, idx_in_line, element_set):\n",
    "            return element_set - set(line) if (line[idx_in_line] == '.' and line.count('.') == 1) else None\n",
    "        \n",
    "        # Check row\n",
    "        row_line = data[int(idx / (self.meta_size**2)) * self.meta_size**2:int(idx / (self.meta_size**2) + 1) * self.meta_size**2]\n",
    "        idx_in_row_line = idx % (self.meta_size**2)\n",
    "        re_row = check_idx_only_in_line(row_line, idx_in_row_line, self.structure.element_set)\n",
    "        # print(row_line, idx_in_row_line, re_row)\n",
    "        if re_row:\n",
    "            self.ready.append((idx, list(re_row)[0]))\n",
    "            return True\n",
    "    \n",
    "        # Check column\n",
    "        col_line = [data[idx % (self.meta_size**2) + row * self.meta_size**2] for row in range(self.meta_size**2)]\n",
    "        idx_in_col_line = int(idx / (self.meta_size**2))\n",
    "        re_col = check_idx_only_in_line(col_line, idx_in_col_line, self.structure.element_set)\n",
    "        # print(col_line, idx_in_col_line, re_col)\n",
    "        if re_col:\n",
    "            self.ready.append((idx, list(re_col)[0]))\n",
    "            return True\n",
    "            \n",
    "        # Check box\n",
    "        box_line = [data[i] for i in self.structure.box_idx_list[self.structure.get_boxid_by_idx(idx)]]\n",
    "        idx_in_box_line = self.structure.box_idx_list[self.structure.get_boxid_by_idx(idx)].index(idx)\n",
    "        re_box = check_idx_only_in_line(box_line, idx_in_box_line, self.structure.element_set)\n",
    "        # print(box_line, idx_in_box_line, re_box)\n",
    "        if re_box:\n",
    "            self.ready.append((idx, list(re_box)[0]))\n",
    "            return True\n",
    "        \n",
    "        return False\n",
    "    \n",
    "    def check_scanned_drop(self, element):\n",
    "        '''Check whether the element can be scanned and dropped\n",
    "        '''\n",
    "        idxes_elements_distributed = [idx for idx, i in enumerate(self.data) if i == element]\n",
    "        idxes_need_to_solve = list(self.idxes_need_to_solve)\n",
    "        tmp_scanned_data = list(self.data)\n",
    "        # check_in_same_row int(idx_1 / (meta_size**2)) == int(idx_2 / (meta_size**2))\n",
    "        # check_in_same_col idx_1 % (meta_size**2) == idx_2 % (meta_size**2)\n",
    "        # check_in_same_box self.structure.get_boxid_by_idx(idx)\n",
    "        for idx in idxes_elements_distributed:\n",
    "            idxes_need_to_solve = [i for i in list(idxes_need_to_solve) if ( \\\n",
    "              int(idx / (self.meta_size**2)) != int(i / (self.meta_size**2)) and \\\n",
    "              idx % (self.meta_size**2) != i % (self.meta_size**2) and \\\n",
    "              self.structure.get_boxid_by_idx(idx) != self.structure.get_boxid_by_idx(i) \\\n",
    "            )]\n",
    "        for idx in list(set(self.idxes_need_to_solve) - set(idxes_need_to_solve)):\n",
    "            tmp_scanned_data[idx] = ''\n",
    "        print(self.structure.display(tmp_scanned_data))\n",
    "#         print(idxes_need_to_solve)\n",
    "        flg_change = False\n",
    "        for idx in idxes_need_to_solve:\n",
    "            if self.check_idx_only(idx, tmp_scanned_data): flg_change = True\n",
    "        return flg_change\n",
    "            "
   ]
  },
  {
   "cell_type": "code",
   "execution_count": 104,
   "metadata": {},
   "outputs": [],
   "source": [
    "# build structure and display\n",
    "test_datas = open('./data/test_demo.txt', 'r')\n",
    "test_datas = test_datas.readlines()\n",
    "for test_data in test_datas:\n",
    "    s = Structure(test_data)\n",
    "#     print(s.data)\n",
    "#     print(s.display())"
   ]
  },
  {
   "cell_type": "code",
   "execution_count": 105,
   "metadata": {},
   "outputs": [
    {
     "name": "stdout",
     "output_type": "stream",
     "text": [
      "+-----+-----+-----+\n",
      "|. . .|. . .|. . .|\n",
      "|     |     |     |\n",
      "|. . 6|. 9 3|. . .|\n",
      "|     |     |     |\n",
      "|9 . .|7 6 .|. . 4|\n",
      "+-----+-----+-----+\n",
      "|4 . .|. . 6|. 3 .|\n",
      "|     |     |     |\n",
      "|. . .|8 . .|. . 2|\n",
      "|     |     |     |\n",
      "|. 1 .|. . .|8 5 .|\n",
      "+-----+-----+-----+\n",
      "|7 . .|6 5 .|. 4 .|\n",
      "|     |     |     |\n",
      "|. 8 4|. . .|9 . .|\n",
      "|     |     |     |\n",
      "|. . 3|2 . .|. . .|\n",
      "+-----+-----+-----+\n",
      "\n"
     ]
    },
    {
     "data": {
      "text/plain": [
       "[0,\n",
       " 1,\n",
       " 2,\n",
       " 3,\n",
       " 4,\n",
       " 5,\n",
       " 6,\n",
       " 7,\n",
       " 8,\n",
       " 9,\n",
       " 10,\n",
       " 12,\n",
       " 15,\n",
       " 16,\n",
       " 17,\n",
       " 19,\n",
       " 20,\n",
       " 23,\n",
       " 24,\n",
       " 25,\n",
       " 28,\n",
       " 29,\n",
       " 30,\n",
       " 31,\n",
       " 33,\n",
       " 35,\n",
       " 36,\n",
       " 37,\n",
       " 38,\n",
       " 40,\n",
       " 41,\n",
       " 42,\n",
       " 43,\n",
       " 45,\n",
       " 47,\n",
       " 48,\n",
       " 49,\n",
       " 50,\n",
       " 53,\n",
       " 55,\n",
       " 56,\n",
       " 59,\n",
       " 60,\n",
       " 62,\n",
       " 63,\n",
       " 66,\n",
       " 67,\n",
       " 68,\n",
       " 70,\n",
       " 71,\n",
       " 72,\n",
       " 73,\n",
       " 76,\n",
       " 77,\n",
       " 78,\n",
       " 79,\n",
       " 80]"
      ]
     },
     "execution_count": 105,
     "metadata": {},
     "output_type": "execute_result"
    }
   ],
   "source": [
    "s = Structure(test_datas[1])\n",
    "print(s.display())\n",
    "\n",
    "solver = Solver(s)\n",
    "solver.idxes_need_to_solve"
   ]
  },
  {
   "cell_type": "code",
   "execution_count": 106,
   "metadata": {},
   "outputs": [
    {
     "name": "stdout",
     "output_type": "stream",
     "text": [
      "+-----+-----+-----+\n",
      "|     |     |  . .|\n",
      "|     |     |     |\n",
      "|    6|  9 3|     |\n",
      "|     |     |     |\n",
      "|9    |7 6  |    4|\n",
      "+-----+-----+-----+\n",
      "|4 . .|.   6|  3 .|\n",
      "|     |     |     |\n",
      "|  . .|8   .|  . 2|\n",
      "|     |     |     |\n",
      "|  1 .|.   .|8 5 .|\n",
      "+-----+-----+-----+\n",
      "|7 . .|6 5 .|  4  |\n",
      "|     |     |     |\n",
      "|  8 4|     |9    |\n",
      "|     |     |     |\n",
      "|  . 3|2   .|     |\n",
      "+-----+-----+-----+\n",
      "\n",
      "False\n"
     ]
    },
    {
     "data": {
      "text/plain": [
       "[]"
      ]
     },
     "execution_count": 106,
     "metadata": {},
     "output_type": "execute_result"
    }
   ],
   "source": [
    "solver.check_idx_only(7)\n",
    "print(solver.check_scanned_drop('9'))\n",
    "solver.ready"
   ]
  },
  {
   "cell_type": "code",
   "execution_count": 91,
   "metadata": {},
   "outputs": [
    {
     "data": {
      "text/plain": [
       "False"
      ]
     },
     "execution_count": 91,
     "metadata": {},
     "output_type": "execute_result"
    }
   ],
   "source": [
    "solver.check_idx_only(13)"
   ]
  },
  {
   "cell_type": "code",
   "execution_count": 40,
   "metadata": {},
   "outputs": [
    {
     "data": {
      "text/plain": [
       "[]"
      ]
     },
     "execution_count": 40,
     "metadata": {},
     "output_type": "execute_result"
    }
   ],
   "source": [
    "[i[0] for i in solver.ready]"
   ]
  },
  {
   "cell_type": "code",
   "execution_count": null,
   "metadata": {},
   "outputs": [],
   "source": []
  }
 ],
 "metadata": {
  "kernelspec": {
   "display_name": "Python 3",
   "language": "python",
   "name": "python3"
  },
  "language_info": {
   "codemirror_mode": {
    "name": "ipython",
    "version": 3
   },
   "file_extension": ".py",
   "mimetype": "text/x-python",
   "name": "python",
   "nbconvert_exporter": "python",
   "pygments_lexer": "ipython3",
   "version": "3.8.2"
  }
 },
 "nbformat": 4,
 "nbformat_minor": 4
}
