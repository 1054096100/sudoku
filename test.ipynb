{
 "cells": [
  {
   "cell_type": "code",
   "execution_count": 1,
   "metadata": {},
   "outputs": [],
   "source": [
    "from utils.structure import *\n",
    "from utils.predicter import *\n",
    "from utils.solver import *"
   ]
  },
  {
   "cell_type": "code",
   "execution_count": 2,
   "metadata": {},
   "outputs": [],
   "source": [
    "# build structure and display\n",
    "test_datas = open('./data/test_demo.txt', 'r')\n",
    "test_datas = test_datas.readlines()\n",
    "for test_data in test_datas:\n",
    "    s = Structure(test_data)\n",
    "#     print(s.data)\n",
    "#     print(s.display())"
   ]
  },
  {
   "cell_type": "code",
   "execution_count": 3,
   "metadata": {
    "scrolled": true
   },
   "outputs": [
    {
     "name": "stdout",
     "output_type": "stream",
     "text": [
      "+-----+-----+-----+\n",
      "|. . 1|. 4 7|. . 2|\n",
      "|     |     |     |\n",
      "|. 7 4|. 3 2|9 . .|\n",
      "|     |     |     |\n",
      "|2 8 3|. 5 .|. . .|\n",
      "+-----+-----+-----+\n",
      "|4 5 9|3 2 6|7 8 1|\n",
      "|     |     |     |\n",
      "|8 1 2|. 7 .|. . 9|\n",
      "|     |     |     |\n",
      "|7 3 6|. . 8|2 4 5|\n",
      "+-----+-----+-----+\n",
      "|. . 7|. 8 .|1 2 3|\n",
      "|     |     |     |\n",
      "|. 2 5|. . .|. 9 .|\n",
      "|     |     |     |\n",
      "|. . 8|2 6 .|5 7 .|\n",
      "+-----+-----+-----+\n",
      "\n"
     ]
    }
   ],
   "source": [
    "s = Structure(test_datas[11])\n",
    "print(s.display())\n",
    "\n",
    "solver = BasicSolver(s)\n",
    "# solver.idxes_need_to_solve"
   ]
  },
  {
   "cell_type": "code",
   "execution_count": 4,
   "metadata": {},
   "outputs": [],
   "source": [
    "from itertools import combinations\n",
    "boxes = solver.structure.box_idx_list\n",
    "combines = list(combinations(boxes, 2))"
   ]
  },
  {
   "cell_type": "code",
   "execution_count": 5,
   "metadata": {},
   "outputs": [
    {
     "name": "stdout",
     "output_type": "stream",
     "text": [
      "[([0, 9, 18, 1, 10, 19, 2, 11, 20], [3, 12, 21, 4, 13, 22, 5, 14, 23]), ([0, 9, 18, 1, 10, 19, 2, 11, 20], [6, 15, 24, 7, 16, 25, 8, 17, 26]), ([0, 9, 18, 1, 10, 19, 2, 11, 20], [27, 36, 45, 28, 37, 46, 29, 38, 47]), ([0, 9, 18, 1, 10, 19, 2, 11, 20], [30, 39, 48, 31, 40, 49, 32, 41, 50]), ([0, 9, 18, 1, 10, 19, 2, 11, 20], [33, 42, 51, 34, 43, 52, 35, 44, 53]), ([0, 9, 18, 1, 10, 19, 2, 11, 20], [54, 63, 72, 55, 64, 73, 56, 65, 74]), ([0, 9, 18, 1, 10, 19, 2, 11, 20], [57, 66, 75, 58, 67, 76, 59, 68, 77]), ([0, 9, 18, 1, 10, 19, 2, 11, 20], [60, 69, 78, 61, 70, 79, 62, 71, 80]), ([3, 12, 21, 4, 13, 22, 5, 14, 23], [6, 15, 24, 7, 16, 25, 8, 17, 26]), ([3, 12, 21, 4, 13, 22, 5, 14, 23], [27, 36, 45, 28, 37, 46, 29, 38, 47]), ([3, 12, 21, 4, 13, 22, 5, 14, 23], [30, 39, 48, 31, 40, 49, 32, 41, 50]), ([3, 12, 21, 4, 13, 22, 5, 14, 23], [33, 42, 51, 34, 43, 52, 35, 44, 53]), ([3, 12, 21, 4, 13, 22, 5, 14, 23], [54, 63, 72, 55, 64, 73, 56, 65, 74]), ([3, 12, 21, 4, 13, 22, 5, 14, 23], [57, 66, 75, 58, 67, 76, 59, 68, 77]), ([3, 12, 21, 4, 13, 22, 5, 14, 23], [60, 69, 78, 61, 70, 79, 62, 71, 80]), ([6, 15, 24, 7, 16, 25, 8, 17, 26], [27, 36, 45, 28, 37, 46, 29, 38, 47]), ([6, 15, 24, 7, 16, 25, 8, 17, 26], [30, 39, 48, 31, 40, 49, 32, 41, 50]), ([6, 15, 24, 7, 16, 25, 8, 17, 26], [33, 42, 51, 34, 43, 52, 35, 44, 53]), ([6, 15, 24, 7, 16, 25, 8, 17, 26], [54, 63, 72, 55, 64, 73, 56, 65, 74]), ([6, 15, 24, 7, 16, 25, 8, 17, 26], [57, 66, 75, 58, 67, 76, 59, 68, 77]), ([6, 15, 24, 7, 16, 25, 8, 17, 26], [60, 69, 78, 61, 70, 79, 62, 71, 80]), ([27, 36, 45, 28, 37, 46, 29, 38, 47], [30, 39, 48, 31, 40, 49, 32, 41, 50]), ([27, 36, 45, 28, 37, 46, 29, 38, 47], [33, 42, 51, 34, 43, 52, 35, 44, 53]), ([27, 36, 45, 28, 37, 46, 29, 38, 47], [54, 63, 72, 55, 64, 73, 56, 65, 74]), ([27, 36, 45, 28, 37, 46, 29, 38, 47], [57, 66, 75, 58, 67, 76, 59, 68, 77]), ([27, 36, 45, 28, 37, 46, 29, 38, 47], [60, 69, 78, 61, 70, 79, 62, 71, 80]), ([30, 39, 48, 31, 40, 49, 32, 41, 50], [33, 42, 51, 34, 43, 52, 35, 44, 53]), ([30, 39, 48, 31, 40, 49, 32, 41, 50], [54, 63, 72, 55, 64, 73, 56, 65, 74]), ([30, 39, 48, 31, 40, 49, 32, 41, 50], [57, 66, 75, 58, 67, 76, 59, 68, 77]), ([30, 39, 48, 31, 40, 49, 32, 41, 50], [60, 69, 78, 61, 70, 79, 62, 71, 80]), ([33, 42, 51, 34, 43, 52, 35, 44, 53], [54, 63, 72, 55, 64, 73, 56, 65, 74]), ([33, 42, 51, 34, 43, 52, 35, 44, 53], [57, 66, 75, 58, 67, 76, 59, 68, 77]), ([33, 42, 51, 34, 43, 52, 35, 44, 53], [60, 69, 78, 61, 70, 79, 62, 71, 80]), ([54, 63, 72, 55, 64, 73, 56, 65, 74], [57, 66, 75, 58, 67, 76, 59, 68, 77]), ([54, 63, 72, 55, 64, 73, 56, 65, 74], [60, 69, 78, 61, 70, 79, 62, 71, 80]), ([57, 66, 75, 58, 67, 76, 59, 68, 77], [60, 69, 78, 61, 70, 79, 62, 71, 80])]\n"
     ]
    }
   ],
   "source": [
    "print(combines)"
   ]
  },
  {
   "cell_type": "code",
   "execution_count": 6,
   "metadata": {
    "scrolled": false
   },
   "outputs": [
    {
     "name": "stdout",
     "output_type": "stream",
     "text": [
      "[]\n",
      "Before grouped drop, scanned drop can also make some changes.\n",
      "[0, 1, 3, 21, 23, 48, 49, 54, 55, 57, 59, 72, 73, 77]\n",
      "+-----+-----+-----+\n",
      "|    1|  4 7|    2|\n",
      "|     |     |     |\n",
      "|  7 4|  3 2|9    |\n",
      "|     |     |     |\n",
      "|2 8 3|  5  |     |\n",
      "+-----+-----+-----+\n",
      "|4 5 9|3 2 6|7 8 1|\n",
      "|     |     |     |\n",
      "|8 1 2|  7  |    9|\n",
      "|     |     |     |\n",
      "|7 3 6|  . 8|2 4 5|\n",
      "+-----+-----+-----+\n",
      "|    7|  8  |1 2 3|\n",
      "|     |     |     |\n",
      "|  2 5|     |  9  |\n",
      "|     |     |     |\n",
      "|    8|2 6  |5 7  |\n",
      "+-----+-----+-----+\n",
      "\n",
      "False\n",
      "[(49, '9')]\n",
      "[(49, '9')]\n"
     ]
    }
   ],
   "source": [
    "# solver.check_idx_only(62)\n",
    "# print(solver.ready)\n",
    "# solver.check_idx_last_left(62)\n",
    "# print(solver.ready)\n",
    "# print(solver.check_scanned_drop('9'))\n",
    "print(solver.ready)\n",
    "print(solver.check_group_drop('9'))\n",
    "print(solver.ready)\n",
    "# solver.update()\n",
    "print(solver.ready)"
   ]
  },
  {
   "cell_type": "code",
   "execution_count": 9,
   "metadata": {},
   "outputs": [
    {
     "name": "stdout",
     "output_type": "stream",
     "text": [
      "+-----+-----+-----+\n",
      "|. . 1|. 4 7|. . 2|\n",
      "|     |     |     |\n",
      "|. 7 4|. 3 2|9 . .|\n",
      "|     |     |     |\n",
      "|2 8 3|. 5 .|. . .|\n",
      "+-----+-----+-----+\n",
      "|4 5 9|3 2 6|7 8 1|\n",
      "|     |     |     |\n",
      "|8 1 2|. 7 .|. . 9|\n",
      "|     |     |     |\n",
      "|7 3 6|. . 8|2 4 5|\n",
      "+-----+-----+-----+\n",
      "|. . 7|. 8 .|1 2 3|\n",
      "|     |     |     |\n",
      "|. 2 5|. . .|. 9 .|\n",
      "|     |     |     |\n",
      "|. . 8|2 6 .|5 7 .|\n",
      "+-----+-----+-----+\n",
      "\n"
     ]
    }
   ],
   "source": [
    "print(solver.display())"
   ]
  },
  {
   "cell_type": "code",
   "execution_count": 10,
   "metadata": {},
   "outputs": [
    {
     "data": {
      "text/plain": [
       "[]"
      ]
     },
     "execution_count": 10,
     "metadata": {},
     "output_type": "execute_result"
    }
   ],
   "source": [
    "solver.steps"
   ]
  },
  {
   "cell_type": "code",
   "execution_count": 11,
   "metadata": {},
   "outputs": [],
   "source": [
    "tmp = \"\t \t \t1\t?\t4\t7\t \t \t2\\\n",
    "\t×\t7\t4\t×\t3\t2\t9\t×\t×\\\n",
    "\t2\t8\t3\t?\t5\t?\t \t \t \\\n",
    "\t4\t5\t9\t3\t2\t6\t7\t8\t1\\\n",
    "\t8\t1\t2\t×\t7\t×\t \t \t9\\\n",
    "\t7\t3\t6\t×\t \t8\t2\t4\t5\\\n",
    "\t \t \t7\t?\t8\t?\t1\t2\t3\\\n",
    "\t×\t2\t5\t×\t×\t×\t×\t9\t×\\\n",
    "\t \t \t8\t2\t6\t?\t5\t7\t \""
   ]
  },
  {
   "cell_type": "code",
   "execution_count": 12,
   "metadata": {},
   "outputs": [
    {
     "name": "stdout",
     "output_type": "stream",
     "text": [
      "161\n"
     ]
    },
    {
     "data": {
      "text/plain": [
       "'.,.,1,.,4,7,.,.,2,.,7,4,.,3,2,9,.,.,2,8,3,.,5,.,.,.,.,4,5,9,3,2,6,7,8,1,8,1,2,.,7,.,.,.,9,7,3,6,.,.,8,2,4,5,.,.,7,.,8,.,1,2,3,.,2,5,.,.,.,.,9,.,.,.,8,2,6,.,5,7,.'"
      ]
     },
     "execution_count": 12,
     "metadata": {},
     "output_type": "execute_result"
    }
   ],
   "source": [
    "tmp = tmp.replace(' ', '.').replace('×', '.').replace('?','.').replace('\t', '')\n",
    "print(len(','.join(list(tmp))))\n",
    "','.join(list(tmp))"
   ]
  },
  {
   "cell_type": "code",
   "execution_count": null,
   "metadata": {},
   "outputs": [],
   "source": []
  }
 ],
 "metadata": {
  "kernelspec": {
   "display_name": "Python 3",
   "language": "python",
   "name": "python3"
  },
  "language_info": {
   "codemirror_mode": {
    "name": "ipython",
    "version": 3
   },
   "file_extension": ".py",
   "mimetype": "text/x-python",
   "name": "python",
   "nbconvert_exporter": "python",
   "pygments_lexer": "ipython3",
   "version": "3.8.2"
  }
 },
 "nbformat": 4,
 "nbformat_minor": 4
}
