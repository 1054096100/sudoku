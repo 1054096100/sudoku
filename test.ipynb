{
 "cells": [
  {
   "cell_type": "code",
   "execution_count": 1,
   "metadata": {},
   "outputs": [],
   "source": [
    "from utils.structure import *\n",
    "from utils.predicter import *\n",
    "from utils.solver import *"
   ]
  },
  {
   "cell_type": "code",
   "execution_count": 2,
   "metadata": {},
   "outputs": [],
   "source": [
    "# build structure and display\n",
    "test_datas = open('./data/test_demo.txt', 'r')\n",
    "test_datas = test_datas.readlines()"
   ]
  },
  {
   "cell_type": "code",
   "execution_count": 3,
   "metadata": {},
   "outputs": [
    {
     "name": "stdout",
     "output_type": "stream",
     "text": [
      "['1', '.', '.', '4', '3', '4', '1', '.', '.', '3', '2', '1', '2', '.', '.', '3']\n",
      "+---+---+\n",
      "|1 .|. 4|\n",
      "|   |   |\n",
      "|3 4|1 .|\n",
      "+---+---+\n",
      "|. 3|2 1|\n",
      "|   |   |\n",
      "|2 .|. 3|\n",
      "+---+---+\n",
      "\n",
      "['.', '.', '.', '.', '.', '.', '.', '.', '.', '.', '.', '6', '.', '9', '3', '.', '.', '.', '9', '.', '.', '7', '6', '.', '.', '.', '4', '4', '.', '.', '.', '.', '6', '.', '3', '.', '.', '.', '.', '8', '.', '.', '.', '.', '2', '.', '1', '.', '.', '.', '.', '8', '5', '.', '7', '.', '.', '6', '5', '.', '.', '4', '.', '.', '8', '4', '.', '.', '.', '9', '.', '.', '.', '.', '3', '2', '.', '.', '.', '.', '.']\n",
      "+-----+-----+-----+\n",
      "|. . .|. . .|. . .|\n",
      "|     |     |     |\n",
      "|. . 6|. 9 3|. . .|\n",
      "|     |     |     |\n",
      "|9 . .|7 6 .|. . 4|\n",
      "+-----+-----+-----+\n",
      "|4 . .|. . 6|. 3 .|\n",
      "|     |     |     |\n",
      "|. . .|8 . .|. . 2|\n",
      "|     |     |     |\n",
      "|. 1 .|. . .|8 5 .|\n",
      "+-----+-----+-----+\n",
      "|7 . .|6 5 .|. 4 .|\n",
      "|     |     |     |\n",
      "|. 8 4|. . .|9 . .|\n",
      "|     |     |     |\n",
      "|. . 3|2 . .|. . .|\n",
      "+-----+-----+-----+\n",
      "\n",
      "['.', '5', '2', '.', '.', '9', '.', '.', '.', '.', '.', '3', '.', '5', '.', '.', '1', '6', '.', '.', '4', '3', '.', '.', '9', '.', '5', '.', '6', '.', '.', '.', '3', '8', '.', '.', '.', '2', '.', '6', '9', '5', '.', '4', '.', '.', '.', '1', '2', '.', '.', '5', '6', '.', '.', '.', '7', '.', '.', '6', '3', '.', '.', '2', '3', '.', '.', '7', '.', '6', '.', '.', '.', '.', '.', '4', '3', '.', '.', '5', '.']\n",
      "+-----+-----+-----+\n",
      "|. 5 2|. . 9|. . .|\n",
      "|     |     |     |\n",
      "|. . 3|. 5 .|. 1 6|\n",
      "|     |     |     |\n",
      "|. . 4|3 . .|9 . 5|\n",
      "+-----+-----+-----+\n",
      "|. 6 .|. . 3|8 . .|\n",
      "|     |     |     |\n",
      "|. 2 .|6 9 5|. 4 .|\n",
      "|     |     |     |\n",
      "|. . 1|2 . .|5 6 .|\n",
      "+-----+-----+-----+\n",
      "|. . 7|. . 6|3 . .|\n",
      "|     |     |     |\n",
      "|2 3 .|. 7 .|6 . .|\n",
      "|     |     |     |\n",
      "|. . .|4 3 .|. 5 .|\n",
      "+-----+-----+-----+\n",
      "\n",
      "['7', '.', '.', '.', '8', '2', '.', '4', '.', '.', '.', '8', '.', '6', '3', '.', '7', '5', '.', '9', '.', '.', '4', '7', '2', '.', '8', '.', '7', '.', '8', '5', '.', '.', '.', '.', '8', '.', '9', '.', '1', '.', '5', '.', '7', '.', '.', '.', '.', '7', '9', '8', '1', '.', '.', '.', '7', '6', '9', '5', '3', '8', '.', '5', '8', '.', '7', '3', '1', '4', '.', '.', '9', '3', '6', '4', '2', '8', '7', '5', '1']\n",
      "+-----+-----+-----+\n",
      "|7 . .|. 8 2|. 4 .|\n",
      "|     |     |     |\n",
      "|. . 8|. 6 3|. 7 5|\n",
      "|     |     |     |\n",
      "|. 9 .|. 4 7|2 . 8|\n",
      "+-----+-----+-----+\n",
      "|. 7 .|8 5 .|. . .|\n",
      "|     |     |     |\n",
      "|8 . 9|. 1 .|5 . 7|\n",
      "|     |     |     |\n",
      "|. . .|. 7 9|8 1 .|\n",
      "+-----+-----+-----+\n",
      "|. . 7|6 9 5|3 8 .|\n",
      "|     |     |     |\n",
      "|5 8 .|7 3 1|4 . .|\n",
      "|     |     |     |\n",
      "|9 3 6|4 2 8|7 5 1|\n",
      "+-----+-----+-----+\n",
      "\n",
      "['15', '4', '5', '13', '7', '11', '14', '3', '8', '6', '12', '1', '16', '9', '2', '10', '12', '1', '.', '.', '.', '15', '6', '2', '7', '5', '16', '.', '.', '.', '3', '14', '9', '.', '.', '.', '.', '.', '.', '4', '15', '.', '.', '.', '.', '.', '.', '8', '16', '.', '.', '.', '.', '5', '.', '.', '.', '.', '.', '2', '.', '.', '.', '13', '.', '.', '.', '.', '.', '7', '.', '.', '1', '.', '.', '14', '.', '.', '.', '.', '.', '.', '.', '.', '.', '4', '.', '.', '11', '.', '.', '10', '.', '.', '.', '.', '.', '.', '.', '.', '.', '14', '.', '.', '12', '.', '.', '4', '.', '.', '.', '.', '.', '.', '.', '.', '.', '2', '.', '.', '13', '.', '.', '6', '.', '.', '.', '.', '8', '.', '.', '.', '.', '6', '.', '.', '3', '.', '.', '13', '.', '.', '.', '9', '3', '.', '.', '.', '.', '13', '.', '.', '16', '.', '.', '8', '.', '.', '.', '15', '13', '14', '.', '.', '10', '.', '.', '.', '4', '.', '.', '11', '.', '.', '5', '16', '10', '2', '.', '4', '.', '.', '.', '.', '.', '.', '.', '6', '.', '.', '8', '12', '1', '5', '9', '.', '.', '.', '.', '.', '.', '.', '.', '.', '.', '4', '14', '3', '14', '10', '12', '8', '.', '.', '.', '.', '.', '.', '.', '.', '11', '7', '15', '1', '2', '15', '11', '7', '3', '10', '.', '.', '.', '.', '4', '12', '9', '8', '13', '6', '6', '13', '4', '3', '14', '9', '15', '.', '.', '1', '8', '7', '12', '10', '16', '5']\n",
      "+-----------+-----------+-----------+-----------+\n",
      "|15 4  5  13|7  11 14 3 |8  6  12 1 |16 9  2  10|\n",
      "|           |           |           |           |\n",
      "|12 1  .  . |.  15 6  2 |7  5  16 . |.  .  3  14|\n",
      "|           |           |           |           |\n",
      "|9  .  .  . |.  .  .  4 |15 .  .  . |.  .  .  8 |\n",
      "|           |           |           |           |\n",
      "|16 .  .  . |.  5  .  . |.  .  .  2 |.  .  .  13|\n",
      "+-----------+-----------+-----------+-----------+\n",
      "|.  .  .  . |.  7  .  . |1  .  .  14|.  .  .  . |\n",
      "|           |           |           |           |\n",
      "|.  .  .  . |.  4  .  . |11 .  .  10|.  .  .  . |\n",
      "|           |           |           |           |\n",
      "|.  .  .  . |.  14 .  . |12 .  .  4 |.  .  .  . |\n",
      "|           |           |           |           |\n",
      "|.  .  .  . |.  2  .  . |13 .  .  6 |.  .  .  . |\n",
      "+-----------+-----------+-----------+-----------+\n",
      "|8  .  .  . |.  6  .  . |3  .  .  13|.  .  .  9 |\n",
      "|           |           |           |           |\n",
      "|3  .  .  . |.  13 .  . |16 .  .  8 |.  .  .  15|\n",
      "|           |           |           |           |\n",
      "|13 14 .  . |10 .  .  . |4  .  .  11|.  .  5  16|\n",
      "|           |           |           |           |\n",
      "|10 2  .  4 |.  .  .  . |.  .  .  6 |.  .  8  12|\n",
      "+-----------+-----------+-----------+-----------+\n",
      "|1  5  9  . |.  .  .  . |.  .  .  . |.  4  14 3 |\n",
      "|           |           |           |           |\n",
      "|14 10 12 8 |.  .  .  . |.  .  .  . |11 7  15 1 |\n",
      "|           |           |           |           |\n",
      "|2  15 11 7 |3  10 .  . |.  .  4  12|9  8  13 6 |\n",
      "|           |           |           |           |\n",
      "|6  13 4  3 |14 9  15 . |.  1  8  7 |12 10 16 5 |\n",
      "+-----------+-----------+-----------+-----------+\n",
      "\n"
     ]
    }
   ],
   "source": [
    "# input test\n",
    "for test_data in test_datas[:5]:\n",
    "    s = Structure(test_data)\n",
    "    print(s.data)\n",
    "    print(s.display())"
   ]
  },
  {
   "cell_type": "code",
   "execution_count": 4,
   "metadata": {
    "scrolled": false
   },
   "outputs": [
    {
     "name": "stdout",
     "output_type": "stream",
     "text": [
      "6 :\n",
      "- Before  False\n",
      "- Processing  False\n",
      "- After  True\n",
      "7 :\n",
      "- Before  True\n",
      "- Processing  False\n",
      "- After  True\n",
      "8 :\n",
      "- Before  True\n",
      "- Processing  False\n",
      "- After  True\n",
      "9 :\n",
      "- Before  False\n",
      "- Processing  False\n",
      "- After  True\n"
     ]
    }
   ],
   "source": [
    "# scan all area test\n",
    "for i in range(6, 10):\n",
    "    print(i, ':')\n",
    "    s = Structure(test_datas[i])\n",
    "    # print(s.display())\n",
    "    solver = BasicSolver(s)\n",
    "    print('- Before ', solver.scan_all(method='area'))\n",
    "    print('- Processing ', solver.scan_all())\n",
    "    print('- After ', solver.scan_all(method='area'))"
   ]
  },
  {
   "cell_type": "code",
   "execution_count": 5,
   "metadata": {
    "scrolled": false
   },
   "outputs": [
    {
     "name": "stdout",
     "output_type": "stream",
     "text": [
      "11 :\n",
      "Before grouped drop, scanned drop can also make some changes.\n",
      "- Before  True\n",
      "- Processing  False\n",
      "- After  False\n",
      "12 :\n",
      "Before grouped drop, scanned drop can also make some changes.\n",
      "Before grouped drop, scanned drop can also make some changes.\n",
      "Before grouped drop, scanned drop can also make some changes.\n",
      "- Before  True\n",
      "- Processing  False\n",
      "- After  False\n",
      "13 :\n",
      "Before grouped drop, scanned drop can also make some changes.\n",
      "- Before  True\n",
      "- Processing  False\n",
      "- After  False\n",
      "14 :\n",
      "Before grouped drop, scanned drop can also make some changes.\n",
      "Before grouped drop, scanned drop can also make some changes.\n",
      "- Before  True\n",
      "- Processing  False\n",
      "- After  False\n",
      "15 :\n",
      "Before grouped drop, scanned drop can also make some changes.\n",
      "Before grouped drop, scanned drop can also make some changes.\n",
      "Before grouped drop, scanned drop can also make some changes.\n",
      "Before grouped drop, scanned drop can also make some changes.\n",
      "- Before  False\n",
      "- Processing  False\n",
      "- After  False\n"
     ]
    }
   ],
   "source": [
    "# scan all group test\n",
    "for i in range(11, 16):\n",
    "    print(i, ':')\n",
    "    s = Structure(test_datas[i])\n",
    "    # print(s.display())\n",
    "    solver = BasicSolver(s)\n",
    "    print('- Before ', solver.scan_all(method='group'))\n",
    "    print('- Processing ', solver.scan_all())\n",
    "    print('- After ', solver.scan_all(method='group'))"
   ]
  },
  {
   "cell_type": "code",
   "execution_count": 6,
   "metadata": {},
   "outputs": [
    {
     "name": "stdout",
     "output_type": "stream",
     "text": [
      "17 :\n",
      "- Before  False\n",
      "- Processing  False\n",
      "Found the group drop part is ({0, 1}, {0, 1})  rows.\n",
      "Found the group drop part is ({8, 5}, {8, 5})  cols.\n",
      "Found the group drop part is ({8, 2}, {8, 2})  cols.\n",
      "- After  True\n",
      "18 :\n",
      "- Before  False\n",
      "- Processing  False\n",
      "Found the group drop part is ({8, 4}, {8, 4})  rows.\n",
      "Found the group drop part is ({0, 2}, {0, 2})  rows.\n",
      "Found the group drop part is ({0, 4}, {0, 4})  cols.\n",
      "Found the group drop part is ({4, 7}, {4, 7})  rows.\n",
      "Found the group drop part is ({0, 1}, {0, 1})  cols.\n",
      "- After  True\n",
      "19 :\n",
      "- Before  False\n",
      "- Processing  False\n",
      "Found the group drop part is ({3, 4}, {3, 4})  rows.\n",
      "- After  True\n",
      "20 :\n",
      "- Before  False\n",
      "- Processing  False\n",
      "Found the group drop part is ({0, 2}, {0, 2})  rows.\n",
      "Found the group drop part is ({2, 3}, {2, 3})  cols.\n",
      "Found the group drop part is ({2, 4}, {2, 4})  rows.\n",
      "Found the group drop part is ({3, 4}, {3, 4})  cols.\n",
      "- After  True\n",
      "21 :\n",
      "- Before  False\n",
      "- Processing  False\n",
      "Found the group drop part is ({8, 7}, {8, 7})  cols.\n",
      "- After  True\n"
     ]
    }
   ],
   "source": [
    "# scan all square test\n",
    "for i in range(17, 22):\n",
    "    print(i, ':')\n",
    "    s = Structure(test_datas[i])\n",
    "    # print(s.display())\n",
    "    solver = BasicSolver(s)\n",
    "    print('- Before ', solver.scan_all(method='square'))\n",
    "    print('- Processing ', solver.scan_all())\n",
    "    print('- After ', solver.scan_all(method='square'))"
   ]
  },
  {
   "cell_type": "code",
   "execution_count": 7,
   "metadata": {},
   "outputs": [
    {
     "data": {
      "text/plain": [
       "[]"
      ]
     },
     "execution_count": 7,
     "metadata": {},
     "output_type": "execute_result"
    }
   ],
   "source": [
    "solver.steps"
   ]
  },
  {
   "cell_type": "code",
   "execution_count": null,
   "metadata": {},
   "outputs": [],
   "source": [
    "tmp = \"\t \t \t6\t \t \t4\t1\t7\t2\\\n",
    "\t \t \t \t2\t \t1\t5\t \t \\\n",
    "\t \t1\t \t \t3\t \t9\t \t \\\n",
    "\t \t2\t8\t \t \t \t3\t \t4\\\n",
    "\t1\t \t \t \t \t \t2\t \t7\\\n",
    "\t6\t \t \t \t \t \t8\t1\t \\\n",
    "\t \t \t3\t \t7\t \t4\t \t \\\n",
    "\t \t \t1\t3\t \t5\t7\t \t \\\n",
    "\t7\t9\t \t4\t \t \t6\t \t \""
   ]
  },
  {
   "cell_type": "code",
   "execution_count": null,
   "metadata": {},
   "outputs": [],
   "source": [
    "tmp = tmp.replace(' ', '.').replace('×', '.').replace('?','.').replace('\t', '')\n",
    "print(len(','.join(list(tmp))))\n",
    "','.join(list(tmp))"
   ]
  },
  {
   "cell_type": "code",
   "execution_count": null,
   "metadata": {},
   "outputs": [],
   "source": []
  }
 ],
 "metadata": {
  "kernelspec": {
   "display_name": "Python 3",
   "language": "python",
   "name": "python3"
  },
  "language_info": {
   "codemirror_mode": {
    "name": "ipython",
    "version": 3
   },
   "file_extension": ".py",
   "mimetype": "text/x-python",
   "name": "python",
   "nbconvert_exporter": "python",
   "pygments_lexer": "ipython3",
   "version": "3.8.2"
  }
 },
 "nbformat": 4,
 "nbformat_minor": 4
}
