{
 "cells": [
  {
   "cell_type": "code",
   "execution_count": 1,
   "metadata": {},
   "outputs": [],
   "source": [
    "from utils.structure import *\n",
    "from utils.predicter import *\n",
    "from utils.solver import *"
   ]
  },
  {
   "cell_type": "code",
   "execution_count": 2,
   "metadata": {},
   "outputs": [],
   "source": [
    "# build structure and display\n",
    "test_datas = open('./data/test_demo.txt', 'r')\n",
    "test_datas = test_datas.readlines()\n",
    "for test_data in test_datas:\n",
    "    s = Structure(test_data)\n",
    "#     print(s.data)\n",
    "#     print(s.display())"
   ]
  },
  {
   "cell_type": "code",
   "execution_count": 3,
   "metadata": {
    "scrolled": true
   },
   "outputs": [
    {
     "name": "stdout",
     "output_type": "stream",
     "text": [
      "+-----+-----+-----+\n",
      "|. . 6|4 . 9|. . 5|\n",
      "|     |     |     |\n",
      "|1 8 4|2 . .|9 6 3|\n",
      "|     |     |     |\n",
      "|5 . .|3 6 .|4 . .|\n",
      "+-----+-----+-----+\n",
      "|. . 3|. . 4|. . 9|\n",
      "|     |     |     |\n",
      "|7 . 8|. . .|3 4 2|\n",
      "|     |     |     |\n",
      "|4 . .|8 . .|5 . .|\n",
      "+-----+-----+-----+\n",
      "|. . .|9 4 6|. 5 1|\n",
      "|     |     |     |\n",
      "|9 . 5|. . 2|. 3 4|\n",
      "|     |     |     |\n",
      "|. 4 .|5 . .|2 9 .|\n",
      "+-----+-----+-----+\n",
      "\n"
     ]
    }
   ],
   "source": [
    "s = Structure(test_datas[11])\n",
    "print(s.display())\n",
    "\n",
    "solver = BasicSolver(s)\n",
    "# solver.idxes_need_to_solve"
   ]
  },
  {
   "cell_type": "code",
   "execution_count": 5,
   "metadata": {
    "scrolled": false
   },
   "outputs": [
    {
     "name": "stdout",
     "output_type": "stream",
     "text": [
      "[]\n",
      "[4, 6, 7, 23, 25, 26, 33, 34, 54, 60, 67, 69, 72, 76, 77, 80]\n",
      "combines:\n",
      "combine: ({4, 6, 7}, set())\n",
      "combine: ({4, 6, 7}, {8, 5, 7})\n",
      "combine: ({4, 6, 7}, {6, 7})\n",
      "combine: ({4, 6, 7}, set())\n",
      "combine: ({4, 6, 7}, set())\n",
      "combine: ({4, 6, 7}, {0, 6})\n",
      "combine: ({4, 6, 7}, {4, 6})\n",
      "combine: ({4, 6, 7}, {0, 8, 4, 5})\n",
      "combine: (set(), {8, 5, 7})\n",
      "combine: (set(), {6, 7})\n",
      "combine: (set(), set())\n",
      "combine: (set(), set())\n",
      "combine: (set(), {0, 6})\n",
      "combine: (set(), {4, 6})\n",
      "combine: (set(), {0, 8, 4, 5})\n",
      "combine: ({8, 5, 7}, {6, 7})\n",
      "combine: ({8, 5, 7}, set())\n",
      "combine: ({8, 5, 7}, set())\n",
      "combine: ({8, 5, 7}, {0, 6})\n",
      "combine: ({8, 5, 7}, {4, 6})\n",
      "combine: ({8, 5, 7}, {0, 8, 4, 5})\n",
      "combine: ({6, 7}, set())\n",
      "combine: ({6, 7}, set())\n",
      "combine: ({6, 7}, {0, 6})\n",
      "combine: ({6, 7}, {4, 6})\n",
      "combine: ({6, 7}, {0, 8, 4, 5})\n",
      "combine: (set(), set())\n",
      "combine: (set(), {0, 6})\n",
      "combine: (set(), {4, 6})\n",
      "combine: (set(), {0, 8, 4, 5})\n",
      "combine: (set(), {0, 6})\n",
      "combine: (set(), {4, 6})\n",
      "combine: (set(), {0, 8, 4, 5})\n",
      "combine: ({0, 6}, {4, 6})\n",
      "combine: ({0, 6}, {0, 8, 4, 5})\n",
      "combine: ({4, 6}, {0, 8, 4, 5})\n",
      "combines:\n",
      "combine: ({8, 6}, set())\n",
      "combine: ({8, 6}, set())\n",
      "combine: ({8, 6}, set())\n",
      "combine: ({8, 6}, {0, 8, 7})\n",
      "combine: ({8, 6}, {8, 2})\n",
      "combine: ({8, 6}, {0, 3, 6, 7})\n",
      "combine: ({8, 6}, {0, 2, 3})\n",
      "combine: ({8, 6}, {8, 2})\n",
      "combine: (set(), set())\n",
      "combine: (set(), set())\n",
      "combine: (set(), {0, 8, 7})\n",
      "combine: (set(), {8, 2})\n",
      "combine: (set(), {0, 3, 6, 7})\n",
      "combine: (set(), {0, 2, 3})\n",
      "combine: (set(), {8, 2})\n",
      "combine: (set(), set())\n",
      "combine: (set(), {0, 8, 7})\n",
      "combine: (set(), {8, 2})\n",
      "combine: (set(), {0, 3, 6, 7})\n",
      "combine: (set(), {0, 2, 3})\n",
      "combine: (set(), {8, 2})\n",
      "combine: (set(), {0, 8, 7})\n",
      "combine: (set(), {8, 2})\n",
      "combine: (set(), {0, 3, 6, 7})\n",
      "combine: (set(), {0, 2, 3})\n",
      "combine: (set(), {8, 2})\n",
      "combine: ({0, 8, 7}, {8, 2})\n",
      "combine: ({0, 8, 7}, {0, 3, 6, 7})\n",
      "combine: ({0, 8, 7}, {0, 2, 3})\n",
      "combine: ({0, 8, 7}, {8, 2})\n",
      "combine: ({8, 2}, {0, 3, 6, 7})\n",
      "combine: ({8, 2}, {0, 2, 3})\n",
      "combine: ({8, 2}, {8, 2})\n",
      "Found the group drop part is ({8, 2}, {8, 2})  cols.\n",
      "combine: ({0, 3, 6, 7}, {0, 2, 3})\n",
      "combine: ({0, 3, 6, 7}, {8, 2})\n",
      "combine: ({0, 2, 3}, {8, 2})\n",
      "+-----+-----+-----+\n",
      "|    6|4 . 9|. . 5|\n",
      "|     |     |     |\n",
      "|1 8 4|2    |9 6 3|\n",
      "|     |     |     |\n",
      "|5    |3 6  |4    |\n",
      "+-----+-----+-----+\n",
      "|    3|    4|. . 9|\n",
      "|     |     |     |\n",
      "|7   8|     |3 4 2|\n",
      "|     |     |     |\n",
      "|4    |8    |5    |\n",
      "+-----+-----+-----+\n",
      "|.    |9 4 6|. 5 1|\n",
      "|     |     |     |\n",
      "|9   5|  . 2|. 3 4|\n",
      "|     |     |     |\n",
      "|  4  |5    |2 9  |\n",
      "+-----+-----+-----+\n",
      "\n",
      "+-----+-----+-----+\n",
      "|    6|4 . 9|. . 5|\n",
      "|     |     |     |\n",
      "|1 8 4|2    |9 6 3|\n",
      "|     |     |     |\n",
      "|5    |3 6  |4    |\n",
      "+-----+-----+-----+\n",
      "|    3|    4|. . 9|\n",
      "|     |     |     |\n",
      "|7   8|     |3 4 2|\n",
      "|     |     |     |\n",
      "|4    |8    |5    |\n",
      "+-----+-----+-----+\n",
      "|.    |9 4 6|. 5 1|\n",
      "|     |     |     |\n",
      "|9   5|  . 2|. 3 4|\n",
      "|     |     |     |\n",
      "|  4  |5    |2 9  |\n",
      "+-----+-----+-----+\n",
      "\n",
      "True\n",
      "[(4, '8'), (54, '8'), (67, '8')]\n",
      "[]\n"
     ]
    }
   ],
   "source": [
    "# solver.check_idx_only(62)\n",
    "# print(solver.ready)\n",
    "# solver.check_idx_last_left(62)\n",
    "# print(solver.ready)\n",
    "# print(solver.check_scanned_drop('9'))\n",
    "print(solver.ready)\n",
    "print(solver.check_square_drop('8'))\n",
    "print(solver.ready)\n",
    "solver.update()\n",
    "print(solver.ready)"
   ]
  },
  {
   "cell_type": "code",
   "execution_count": 6,
   "metadata": {},
   "outputs": [
    {
     "name": "stdout",
     "output_type": "stream",
     "text": [
      "+-----+-----+-----+\n",
      "|. . 6|4 8 9|. . 5|\n",
      "|     |     |     |\n",
      "|1 8 4|2 . .|9 6 3|\n",
      "|     |     |     |\n",
      "|5 . .|3 6 .|4 . .|\n",
      "+-----+-----+-----+\n",
      "|. . 3|. . 4|. . 9|\n",
      "|     |     |     |\n",
      "|7 . 8|. . .|3 4 2|\n",
      "|     |     |     |\n",
      "|4 . .|8 . .|5 . .|\n",
      "+-----+-----+-----+\n",
      "|8 . .|9 4 6|. 5 1|\n",
      "|     |     |     |\n",
      "|9 . 5|. 8 2|. 3 4|\n",
      "|     |     |     |\n",
      "|. 4 .|5 . .|2 9 .|\n",
      "+-----+-----+-----+\n",
      "\n"
     ]
    }
   ],
   "source": [
    "print(solver.display())"
   ]
  },
  {
   "cell_type": "code",
   "execution_count": 8,
   "metadata": {},
   "outputs": [
    {
     "data": {
      "text/plain": [
       "[(49, '9')]"
      ]
     },
     "execution_count": 8,
     "metadata": {},
     "output_type": "execute_result"
    }
   ],
   "source": [
    "solver.steps"
   ]
  },
  {
   "cell_type": "code",
   "execution_count": 9,
   "metadata": {},
   "outputs": [],
   "source": [
    "tmp = \"A\t \t \t6\t4\t \t9\t \t \t5\n",
    "B\t1\t8\t4\t2\t \t \t9\t6\t3\n",
    "C\t5\t \t \t3\t6\t \t4\t \t \n",
    "D\t \t \t3\t \t \t4\t \t \t9\n",
    "E\t7\t \t8\t \t \t \t3\t4\t2\n",
    "F\t4\t \t \t8\t \t \t5\t \t \n",
    "G\t?\t×\t×\t9\t4\t6\t \t5\t1\n",
    "H\t9\t×\t5\t \t \t2\t \t3\t4\n",
    "I\t?\t4\t×\t5\t \t \t2\t9\t \""
   ]
  },
  {
   "cell_type": "code",
   "execution_count": 10,
   "metadata": {},
   "outputs": [
    {
     "name": "stdout",
     "output_type": "stream",
     "text": [
      "161\n"
     ]
    },
    {
     "data": {
      "text/plain": [
       "'.,.,1,.,4,7,.,.,2,.,7,4,.,3,2,9,.,.,2,8,3,.,5,.,.,.,.,4,5,9,3,2,6,7,8,1,8,1,2,.,7,.,.,.,9,7,3,6,.,.,8,2,4,5,.,.,7,.,8,.,1,2,3,.,2,5,.,.,.,.,9,.,.,.,8,2,6,.,5,7,.'"
      ]
     },
     "execution_count": 10,
     "metadata": {},
     "output_type": "execute_result"
    }
   ],
   "source": [
    "tmp = tmp.replace(' ', '.').replace('×', '.').replace('?','.').replace('\t', '')\n",
    "print(len(','.join(list(tmp))))\n",
    "','.join(list(tmp))"
   ]
  },
  {
   "cell_type": "code",
   "execution_count": null,
   "metadata": {},
   "outputs": [],
   "source": []
  }
 ],
 "metadata": {
  "kernelspec": {
   "display_name": "Python 3",
   "language": "python",
   "name": "python3"
  },
  "language_info": {
   "codemirror_mode": {
    "name": "ipython",
    "version": 3
   },
   "file_extension": ".py",
   "mimetype": "text/x-python",
   "name": "python",
   "nbconvert_exporter": "python",
   "pygments_lexer": "ipython3",
   "version": "3.8.2"
  }
 },
 "nbformat": 4,
 "nbformat_minor": 4
}
