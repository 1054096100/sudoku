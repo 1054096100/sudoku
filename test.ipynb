{
 "cells": [
  {
   "cell_type": "code",
   "execution_count": 1,
   "metadata": {},
   "outputs": [],
   "source": [
    "from utils.structure import *\n",
    "from utils.predicter import *\n",
    "from utils.solver import *"
   ]
  },
  {
   "cell_type": "code",
   "execution_count": 2,
   "metadata": {},
   "outputs": [],
   "source": [
    "# build structure and display\n",
    "test_datas = open('./data/test_demo.txt', 'r')\n",
    "test_datas = test_datas.readlines()\n",
    "for test_data in test_datas:\n",
    "    s = Structure(test_data)\n",
    "#     print(s.data)\n",
    "#     print(s.display())"
   ]
  },
  {
   "cell_type": "code",
   "execution_count": 3,
   "metadata": {},
   "outputs": [
    {
     "name": "stdout",
     "output_type": "stream",
     "text": [
      "+-----+-----+-----+\n",
      "|7 . .|. 8 2|. 4 .|\n",
      "|     |     |     |\n",
      "|. . 8|. 6 3|. 7 5|\n",
      "|     |     |     |\n",
      "|. 9 .|. 4 7|2 . 8|\n",
      "+-----+-----+-----+\n",
      "|. 7 .|8 5 .|. . .|\n",
      "|     |     |     |\n",
      "|8 . 9|. 1 .|5 . 7|\n",
      "|     |     |     |\n",
      "|. . .|. 7 9|8 1 .|\n",
      "+-----+-----+-----+\n",
      "|. . 7|6 9 5|3 8 .|\n",
      "|     |     |     |\n",
      "|5 8 .|7 3 1|4 . .|\n",
      "|     |     |     |\n",
      "|9 3 6|4 2 8|7 5 1|\n",
      "+-----+-----+-----+\n",
      "\n"
     ]
    },
    {
     "data": {
      "text/plain": [
       "[1,\n",
       " 2,\n",
       " 3,\n",
       " 6,\n",
       " 8,\n",
       " 9,\n",
       " 10,\n",
       " 12,\n",
       " 15,\n",
       " 18,\n",
       " 20,\n",
       " 21,\n",
       " 25,\n",
       " 27,\n",
       " 29,\n",
       " 32,\n",
       " 33,\n",
       " 34,\n",
       " 35,\n",
       " 37,\n",
       " 39,\n",
       " 41,\n",
       " 43,\n",
       " 45,\n",
       " 46,\n",
       " 47,\n",
       " 48,\n",
       " 53,\n",
       " 54,\n",
       " 55,\n",
       " 62,\n",
       " 65,\n",
       " 70,\n",
       " 71]"
      ]
     },
     "execution_count": 3,
     "metadata": {},
     "output_type": "execute_result"
    }
   ],
   "source": [
    "s = Structure(test_datas[3])\n",
    "print(s.display())\n",
    "\n",
    "solver = Solver(s)\n",
    "solver.idxes_need_to_solve"
   ]
  },
  {
   "cell_type": "code",
   "execution_count": 4,
   "metadata": {},
   "outputs": [
    {
     "name": "stdout",
     "output_type": "stream",
     "text": [
      "+-----+-----+-----+\n",
      "|7    |  8 2|  4  |\n",
      "|     |     |     |\n",
      "|. . 8|  6 3|  7 5|\n",
      "|     |     |     |\n",
      "|  9  |  4 7|2   8|\n",
      "+-----+-----+-----+\n",
      "|. 7 .|8 5 .|    .|\n",
      "|     |     |     |\n",
      "|8 . 9|  1 .|5   7|\n",
      "|     |     |     |\n",
      "|. . .|  7 9|8 1 .|\n",
      "+-----+-----+-----+\n",
      "|. . 7|6 9 5|3 8  |\n",
      "|     |     |     |\n",
      "|5 8  |7 3 1|4    |\n",
      "|     |     |     |\n",
      "|9 3 6|4 2 8|7 5 1|\n",
      "+-----+-----+-----+\n",
      "\n",
      "False\n"
     ]
    },
    {
     "data": {
      "text/plain": [
       "[(62, '2')]"
      ]
     },
     "execution_count": 4,
     "metadata": {},
     "output_type": "execute_result"
    }
   ],
   "source": [
    "solver.check_idx_only(62)\n",
    "print(solver.check_scanned_drop('4'))\n",
    "solver.ready"
   ]
  },
  {
   "cell_type": "code",
   "execution_count": 5,
   "metadata": {},
   "outputs": [
    {
     "data": {
      "text/plain": [
       "True"
      ]
     },
     "execution_count": 5,
     "metadata": {},
     "output_type": "execute_result"
    }
   ],
   "source": [
    "type(['', 1]) == list"
   ]
  },
  {
   "cell_type": "code",
   "execution_count": 6,
   "metadata": {},
   "outputs": [
    {
     "data": {
      "text/plain": [
       "{2}"
      ]
     },
     "execution_count": 6,
     "metadata": {},
     "output_type": "execute_result"
    }
   ],
   "source": [
    "{1, 2, 3} & {1, 2} & {2, 4}"
   ]
  },
  {
   "cell_type": "code",
   "execution_count": 7,
   "metadata": {},
   "outputs": [],
   "source": [
    "tmp = '7\t \t \t \t8\t2\t \t4\t \t \t \t8\t \t6\t3\t \t7\t5\t \t9\t \t \t4\t7\t2\t \t8\t \t7\t \t8\t5\t \t \t \t \t8\t \t9\t \t1\t \t5\t \t7\t \t \t \t \t7\t9\t8\t1\t \t \t \t7\t6\t9\t5\t3\t8\t \t5\t8\t \t7\t3\t1\t4\t \t \t9\t3\t6\t4\t2\t8\t7\t5\t1'"
   ]
  },
  {
   "cell_type": "code",
   "execution_count": 8,
   "metadata": {},
   "outputs": [
    {
     "data": {
      "text/plain": [
       "'7,.,.,.,8,2,.,4,.,.,.,8,.,6,3,.,7,5,.,9,.,.,4,7,2,.,8,.,7,.,8,5,.,.,.,.,8,.,9,.,1,.,5,.,7,.,.,.,.,7,9,8,1,.,.,.,7,6,9,5,3,8,.,5,8,.,7,3,1,4,.,.,9,3,6,4,2,8,7,5,1'"
      ]
     },
     "execution_count": 8,
     "metadata": {},
     "output_type": "execute_result"
    }
   ],
   "source": [
    "tmp = tmp.replace(' ', '.').replace('\t', '')\n",
    "','.join(list(tmp))"
   ]
  },
  {
   "cell_type": "code",
   "execution_count": null,
   "metadata": {},
   "outputs": [],
   "source": []
  }
 ],
 "metadata": {
  "kernelspec": {
   "display_name": "Python 3",
   "language": "python",
   "name": "python3"
  },
  "language_info": {
   "codemirror_mode": {
    "name": "ipython",
    "version": 3
   },
   "file_extension": ".py",
   "mimetype": "text/x-python",
   "name": "python",
   "nbconvert_exporter": "python",
   "pygments_lexer": "ipython3",
   "version": "3.8.2"
  }
 },
 "nbformat": 4,
 "nbformat_minor": 4
}
