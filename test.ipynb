{
 "cells": [
  {
   "cell_type": "code",
   "execution_count": 1,
   "metadata": {},
   "outputs": [],
   "source": [
    "from utils.structure import *\n",
    "from utils.predicter import *\n",
    "from utils.solver import *"
   ]
  },
  {
   "cell_type": "code",
   "execution_count": 2,
   "metadata": {},
   "outputs": [],
   "source": [
    "# build structure and display\n",
    "test_datas = open('./data/test_demo.txt', 'r')\n",
    "test_datas = test_datas.readlines()\n",
    "for test_data in test_datas:\n",
    "    s = Structure(test_data)\n",
    "#     print(s.data)\n",
    "#     print(s.display())"
   ]
  },
  {
   "cell_type": "code",
   "execution_count": 3,
   "metadata": {},
   "outputs": [
    {
     "name": "stdout",
     "output_type": "stream",
     "text": [
      "+-----+-----+-----+\n",
      "|3 8 .|. . 7|. . .|\n",
      "|     |     |     |\n",
      "|. . 1|. 5 8|. . .|\n",
      "|     |     |     |\n",
      "|9 5 .|3 . .|. 1 8|\n",
      "+-----+-----+-----+\n",
      "|1 2 9|. 8 .|. 6 .|\n",
      "|     |     |     |\n",
      "|. . 8|. . .|. . .|\n",
      "|     |     |     |\n",
      "|. 3 .|. 9 .|. 8 2|\n",
      "+-----+-----+-----+\n",
      "|4 9 5|8 3 6|. . 1|\n",
      "|     |     |     |\n",
      "|8 . 3|5 7 .|6 . .|\n",
      "|     |     |     |\n",
      "|. . .|4 . 9|8 3 5|\n",
      "+-----+-----+-----+\n",
      "\n"
     ]
    }
   ],
   "source": [
    "s = Structure(test_datas[5])\n",
    "print(s.display())\n",
    "\n",
    "solver = BasicSolver(s)\n",
    "# solver.idxes_need_to_solve"
   ]
  },
  {
   "cell_type": "code",
   "execution_count": 4,
   "metadata": {},
   "outputs": [
    {
     "name": "stdout",
     "output_type": "stream",
     "text": [
      "+-----+-----+-----+\n",
      "|3 8 .|. . 7|. .  |\n",
      "|     |     |     |\n",
      "|.   1|. 5 8|. .  |\n",
      "|     |     |     |\n",
      "|9 5 .|3 . .|. 1 8|\n",
      "+-----+-----+-----+\n",
      "|1 2 9|  8  |  6  |\n",
      "|     |     |     |\n",
      "|    8|. . .|     |\n",
      "|     |     |     |\n",
      "|  3  |  9  |  8 2|\n",
      "+-----+-----+-----+\n",
      "|4 9 5|8 3 6|. . 1|\n",
      "|     |     |     |\n",
      "|8   3|5 7 .|6 .  |\n",
      "|     |     |     |\n",
      "|.   .|4 . 9|8 3 5|\n",
      "+-----+-----+-----+\n",
      "\n",
      "False\n",
      "+-----+-----+-----+\n",
      "|3 8 .|. . 7|. .  |\n",
      "|     |     |     |\n",
      "|.   1|. 5 8|. .  |\n",
      "|     |     |     |\n",
      "|9 5 .|3 . .|. 1 8|\n",
      "+-----+-----+-----+\n",
      "|1 2 9|  8  |  6  |\n",
      "|     |     |     |\n",
      "|    8|     |     |\n",
      "|     |     |     |\n",
      "|  3  |  9  |  8 2|\n",
      "+-----+-----+-----+\n",
      "|4 9 5|8 3 6|. . 1|\n",
      "|     |     |     |\n",
      "|8   3|5 7 .|6 .  |\n",
      "|     |     |     |\n",
      "|     |4   9|8 3 5|\n",
      "+-----+-----+-----+\n",
      "\n",
      "True\n"
     ]
    },
    {
     "data": {
      "text/plain": [
       "[(9, '2'), (68, '2')]"
      ]
     },
     "execution_count": 4,
     "metadata": {},
     "output_type": "execute_result"
    }
   ],
   "source": [
    "# solver.check_idx_only(62)\n",
    "# print(solver.ready)\n",
    "# solver.check_idx_last_left(62)\n",
    "# print(solver.ready)\n",
    "print(solver.check_scanned_drop('2'))\n",
    "print(solver.check_area_drop('2'))\n",
    "solver.ready"
   ]
  },
  {
   "cell_type": "code",
   "execution_count": 7,
   "metadata": {},
   "outputs": [
    {
     "data": {
      "text/plain": [
       "True"
      ]
     },
     "execution_count": 7,
     "metadata": {},
     "output_type": "execute_result"
    }
   ],
   "source": [
    "type(['', 1]) == list"
   ]
  },
  {
   "cell_type": "code",
   "execution_count": 8,
   "metadata": {},
   "outputs": [
    {
     "data": {
      "text/plain": [
       "{2}"
      ]
     },
     "execution_count": 8,
     "metadata": {},
     "output_type": "execute_result"
    }
   ],
   "source": [
    "{1, 2, 3} & {1, 2} & {2, 4}"
   ]
  },
  {
   "cell_type": "code",
   "execution_count": 9,
   "metadata": {},
   "outputs": [],
   "source": [
    "tmp = \"3\t8\t \t \t \t7\t \t \t \t \t×\t1\t \t5\t8\t \t \t \t9\t5\t \t3\t \t \t \t1\t8\t1\t2\t9\t \t8\t \t \t6\t \t \t×\t8\t \t \t \t \t \t \t \t3\t \t \t9\t \t \t8\t2\t4\t9\t5\t8\t3\t6\t \t \t1\t8\t×\t3\t5\t7\t \t6\t \t \t2\t×\t2\t4\t×\t9\t8\t3\t5\""
   ]
  },
  {
   "cell_type": "code",
   "execution_count": 10,
   "metadata": {},
   "outputs": [
    {
     "name": "stdout",
     "output_type": "stream",
     "text": [
      "161\n"
     ]
    },
    {
     "data": {
      "text/plain": [
       "'3,8,.,.,.,7,.,.,.,.,.,1,.,5,8,.,.,.,9,5,.,3,.,.,.,1,8,1,2,9,.,8,.,.,6,.,.,.,8,.,.,.,.,.,.,.,3,.,.,9,.,.,8,2,4,9,5,8,3,6,.,.,1,8,.,3,5,7,.,6,.,.,2,.,2,4,.,9,8,3,5'"
      ]
     },
     "execution_count": 10,
     "metadata": {},
     "output_type": "execute_result"
    }
   ],
   "source": [
    "tmp = tmp.replace(' ', '.').replace('×', '.').replace('\t', '')\n",
    "print(len(','.join(list(tmp))))\n",
    "','.join(list(tmp))"
   ]
  },
  {
   "cell_type": "code",
   "execution_count": null,
   "metadata": {},
   "outputs": [],
   "source": []
  }
 ],
 "metadata": {
  "kernelspec": {
   "display_name": "Python 3",
   "language": "python",
   "name": "python3"
  },
  "language_info": {
   "codemirror_mode": {
    "name": "ipython",
    "version": 3
   },
   "file_extension": ".py",
   "mimetype": "text/x-python",
   "name": "python",
   "nbconvert_exporter": "python",
   "pygments_lexer": "ipython3",
   "version": "3.8.2"
  }
 },
 "nbformat": 4,
 "nbformat_minor": 4
}
